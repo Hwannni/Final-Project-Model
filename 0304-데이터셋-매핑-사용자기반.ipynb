{
 "cells": [
  {
   "cell_type": "code",
   "execution_count": 1,
   "metadata": {},
   "outputs": [
    {
     "name": "stdout",
     "output_type": "stream",
     "text": [
      "Requirement already satisfied: matplotlib in c:\\users\\cmhcm\\appdata\\local\\programs\\python\\python311\\lib\\site-packages (3.8.3)Note: you may need to restart the kernel to use updated packages.\n",
      "\n",
      "Requirement already satisfied: contourpy>=1.0.1 in c:\\users\\cmhcm\\appdata\\local\\programs\\python\\python311\\lib\\site-packages (from matplotlib) (1.2.0)\n",
      "Requirement already satisfied: cycler>=0.10 in c:\\users\\cmhcm\\appdata\\local\\programs\\python\\python311\\lib\\site-packages (from matplotlib) (0.12.1)\n",
      "Requirement already satisfied: fonttools>=4.22.0 in c:\\users\\cmhcm\\appdata\\local\\programs\\python\\python311\\lib\\site-packages (from matplotlib) (4.49.0)\n",
      "Requirement already satisfied: kiwisolver>=1.3.1 in c:\\users\\cmhcm\\appdata\\local\\programs\\python\\python311\\lib\\site-packages (from matplotlib) (1.4.5)\n",
      "Requirement already satisfied: numpy<2,>=1.21 in c:\\users\\cmhcm\\appdata\\local\\programs\\python\\python311\\lib\\site-packages (from matplotlib) (1.26.4)\n",
      "Requirement already satisfied: packaging>=20.0 in c:\\users\\cmhcm\\appdata\\roaming\\python\\python311\\site-packages (from matplotlib) (23.2)\n",
      "Requirement already satisfied: pillow>=8 in c:\\users\\cmhcm\\appdata\\local\\programs\\python\\python311\\lib\\site-packages (from matplotlib) (10.2.0)\n",
      "Requirement already satisfied: pyparsing>=2.3.1 in c:\\users\\cmhcm\\appdata\\local\\programs\\python\\python311\\lib\\site-packages (from matplotlib) (3.1.1)\n",
      "Requirement already satisfied: python-dateutil>=2.7 in c:\\users\\cmhcm\\appdata\\roaming\\python\\python311\\site-packages (from matplotlib) (2.8.2)\n",
      "Requirement already satisfied: six>=1.5 in c:\\users\\cmhcm\\appdata\\roaming\\python\\python311\\site-packages (from python-dateutil>=2.7->matplotlib) (1.16.0)\n"
     ]
    }
   ],
   "source": [
    "pip install matplotlib"
   ]
  },
  {
   "cell_type": "code",
   "execution_count": 2,
   "metadata": {},
   "outputs": [
    {
     "name": "stdout",
     "output_type": "stream",
     "text": [
      "Requirement already satisfied: kiwipiepy in c:\\users\\cmhcm\\appdata\\local\\programs\\python\\python311\\lib\\site-packages (0.16.2)\n",
      "Requirement already satisfied: kiwipiepy-model~=0.16 in c:\\users\\cmhcm\\appdata\\local\\programs\\python\\python311\\lib\\site-packages (from kiwipiepy) (0.16.0)\n",
      "Requirement already satisfied: numpy in c:\\users\\cmhcm\\appdata\\local\\programs\\python\\python311\\lib\\site-packages (from kiwipiepy) (1.26.4)\n",
      "Requirement already satisfied: tqdm in c:\\users\\cmhcm\\appdata\\local\\programs\\python\\python311\\lib\\site-packages (from kiwipiepy) (4.66.1)\n",
      "Requirement already satisfied: colorama in c:\\users\\cmhcm\\appdata\\roaming\\python\\python311\\site-packages (from tqdm->kiwipiepy) (0.4.6)\n",
      "Note: you may need to restart the kernel to use updated packages.\n"
     ]
    }
   ],
   "source": [
    "pip install kiwipiepy"
   ]
  },
  {
   "cell_type": "code",
   "execution_count": 3,
   "metadata": {},
   "outputs": [
    {
     "name": "stdout",
     "output_type": "stream",
     "text": [
      "Requirement already satisfied: gensim in c:\\users\\cmhcm\\appdata\\local\\programs\\python\\python311\\lib\\site-packages (4.3.2)\n",
      "Requirement already satisfied: numpy>=1.18.5 in c:\\users\\cmhcm\\appdata\\local\\programs\\python\\python311\\lib\\site-packages (from gensim) (1.26.4)\n",
      "Requirement already satisfied: scipy>=1.7.0 in c:\\users\\cmhcm\\appdata\\local\\programs\\python\\python311\\lib\\site-packages (from gensim) (1.12.0)\n",
      "Requirement already satisfied: smart-open>=1.8.1 in c:\\users\\cmhcm\\appdata\\local\\programs\\python\\python311\\lib\\site-packages (from gensim) (6.4.0)\n",
      "Note: you may need to restart the kernel to use updated packages.\n"
     ]
    }
   ],
   "source": [
    "pip install gensim"
   ]
  },
  {
   "cell_type": "code",
   "execution_count": 4,
   "metadata": {},
   "outputs": [
    {
     "name": "stdout",
     "output_type": "stream",
     "text": [
      "Requirement already satisfied: konlpy in c:\\users\\cmhcm\\appdata\\local\\programs\\python\\python311\\lib\\site-packages (0.6.0)\n",
      "Requirement already satisfied: JPype1>=0.7.0 in c:\\users\\cmhcm\\appdata\\local\\programs\\python\\python311\\lib\\site-packages (from konlpy) (1.5.0)\n",
      "Requirement already satisfied: lxml>=4.1.0 in c:\\users\\cmhcm\\appdata\\local\\programs\\python\\python311\\lib\\site-packages (from konlpy) (5.1.0)\n",
      "Requirement already satisfied: numpy>=1.6 in c:\\users\\cmhcm\\appdata\\local\\programs\\python\\python311\\lib\\site-packages (from konlpy) (1.26.4)\n",
      "Requirement already satisfied: packaging in c:\\users\\cmhcm\\appdata\\roaming\\python\\python311\\site-packages (from JPype1>=0.7.0->konlpy) (23.2)\n",
      "Note: you may need to restart the kernel to use updated packages.\n"
     ]
    }
   ],
   "source": [
    "pip install konlpy"
   ]
  },
  {
   "cell_type": "code",
   "execution_count": 5,
   "metadata": {},
   "outputs": [
    {
     "name": "stderr",
     "output_type": "stream",
     "text": [
      "C:\\Users\\cmhcm\\AppData\\Local\\Temp\\ipykernel_17352\\1662815981.py:2: DeprecationWarning: \n",
      "Pyarrow will become a required dependency of pandas in the next major release of pandas (pandas 3.0),\n",
      "(to allow more performant data types, such as the Arrow string type, and better interoperability with other libraries)\n",
      "but was not found to be installed on your system.\n",
      "If this would cause problems for you,\n",
      "please provide us feedback at https://github.com/pandas-dev/pandas/issues/54466\n",
      "        \n",
      "  import pandas as pd\n"
     ]
    }
   ],
   "source": [
    "import numpy as np\n",
    "import pandas as pd"
   ]
  },
  {
   "cell_type": "markdown",
   "metadata": {},
   "source": [
    "## 14781개 뉴스 데이터 가져오기\n",
    "- 풀본문 있는 데이터 입니다."
   ]
  },
  {
   "cell_type": "code",
   "execution_count": 6,
   "metadata": {},
   "outputs": [
    {
     "name": "stdout",
     "output_type": "stream",
     "text": [
      "<class 'pandas.core.frame.DataFrame'>\n",
      "RangeIndex: 14761 entries, 0 to 14760\n",
      "Data columns (total 7 columns):\n",
      " #   Column        Non-Null Count  Dtype \n",
      "---  ------        --------------  ----- \n",
      " 0   news_id       14761 non-null  object\n",
      " 1   news_date     14761 non-null  object\n",
      " 2   news_keyword  14761 non-null  object\n",
      " 3   news_feature  14761 non-null  object\n",
      " 4   news_url      14686 non-null  object\n",
      " 5   news_content  14761 non-null  object\n",
      " 6   img_url       13992 non-null  object\n",
      "dtypes: object(7)\n",
      "memory usage: 807.4+ KB\n"
     ]
    }
   ],
   "source": [
    "data_path = \"C:/dev/openAI/result_df_14761.csv\"\n",
    "df = pd.read_csv(data_path, dtype=str)\n",
    "\n",
    "df.info()"
   ]
  },
  {
   "cell_type": "markdown",
   "metadata": {},
   "source": [
    "# 중복제거 로직\n",
    "- 형태소 분석기: Okt\n",
    "- 벡터화: CountVectorizer\n",
    "- 중복 기준: news_content 컬럼 데이터"
   ]
  },
  {
   "cell_type": "code",
   "execution_count": 7,
   "metadata": {},
   "outputs": [],
   "source": [
    "from konlpy.tag import Okt\n",
    "\n",
    "# 형태소 분석기 초기화\n",
    "okt = Okt()"
   ]
  },
  {
   "cell_type": "code",
   "execution_count": 8,
   "metadata": {},
   "outputs": [],
   "source": [
    "from tqdm import tqdm\n",
    "from sklearn.feature_extraction.text import TfidfVectorizer\n",
    "\n",
    "# 전처리 함수 정의\n",
    "def tokenizer(raw, pos=[\"Noun\", \"Alpha\", \"Number\"], stopword=[]):\n",
    "    return [\n",
    "        word for word, tag in okt.pos(\n",
    "            raw,\n",
    "            norm=True,\n",
    "            stem=True\n",
    "            )\n",
    "            if len(word) > 1 and tag in pos and word not in stopword\n",
    "        ]"
   ]
  },
  {
   "cell_type": "markdown",
   "metadata": {},
   "source": [
    "## 전처리 및 벡터화"
   ]
  },
  {
   "cell_type": "code",
   "execution_count": 9,
   "metadata": {},
   "outputs": [],
   "source": [
    "from sklearn.feature_extraction.text import CountVectorizer\n",
    "\n",
    "vectorize = CountVectorizer(\n",
    "    tokenizer=tokenizer,\n",
    "    min_df=2\n",
    ")"
   ]
  },
  {
   "cell_type": "code",
   "execution_count": 10,
   "metadata": {},
   "outputs": [
    {
     "name": "stderr",
     "output_type": "stream",
     "text": [
      "c:\\Users\\cmhcm\\AppData\\Local\\Programs\\Python\\Python311\\Lib\\site-packages\\sklearn\\feature_extraction\\text.py:525: UserWarning: The parameter 'token_pattern' will not be used since 'tokenizer' is not None'\n",
      "  warnings.warn(\n"
     ]
    }
   ],
   "source": [
    "# 기사 본문에 나오는 단어의 빈도 계산\n",
    "X = vectorize.fit_transform(df['news_content'])"
   ]
  },
  {
   "cell_type": "code",
   "execution_count": 11,
   "metadata": {},
   "outputs": [],
   "source": [
    "from sklearn.metrics.pairwise import cosine_similarity\n",
    "\n",
    "# 코사인 유사도 계산\n",
    "cos_sim = cosine_similarity(X)\n",
    "\n",
    "# 코사인 유사도가 0.9 이상인 경우를 중복으로 판단\n",
    "dup_idx = np.where(cos_sim > 0.9)"
   ]
  },
  {
   "cell_type": "code",
   "execution_count": 12,
   "metadata": {},
   "outputs": [],
   "source": [
    "# 중복 기사 인덱스와 제목 출력 및 중복 기사 제거\n",
    "to_drop = []\n",
    "\n",
    "for i in range(len(dup_idx[0])):\n",
    "    if dup_idx[0][i] != dup_idx[1][i]:  # 자기 자신과의 유사도는 제외\n",
    "\n",
    "        # 먼저 게시된 기사를 남기고 싶으므로 인덱스가 더 작은 행을 제거\n",
    "        to_remove = min(dup_idx[0][i], dup_idx[1][i])\n",
    "        # print(\"삭제되는 기사 제목: \", df.iloc[to_remove]['news_id'])\n",
    "        # print()\n",
    "\n",
    "        to_drop.append(to_remove)\n",
    "\n",
    "# 중복 기사 제거\n",
    "df = df.drop(to_drop)\n",
    "# 인덱스 재설정\n",
    "df = df.reset_index(drop=True)"
   ]
  },
  {
   "cell_type": "markdown",
   "metadata": {},
   "source": [
    "### 4,353개의 중복기사 제거"
   ]
  },
  {
   "cell_type": "code",
   "execution_count": 13,
   "metadata": {},
   "outputs": [
    {
     "data": {
      "text/plain": [
       "(10429, 7)"
      ]
     },
     "execution_count": 13,
     "metadata": {},
     "output_type": "execute_result"
    }
   ],
   "source": [
    "# 중복제거 확인\n",
    "df.shape"
   ]
  },
  {
   "cell_type": "markdown",
   "metadata": {},
   "source": [
    "# 전처리"
   ]
  },
  {
   "cell_type": "markdown",
   "metadata": {},
   "source": [
    "### news_url: null일 경우 삭제"
   ]
  },
  {
   "cell_type": "code",
   "execution_count": 14,
   "metadata": {},
   "outputs": [],
   "source": [
    "# url컬럼이 null 값을 가진 행 삭제\n",
    "# df = df.dropna(subset=['news_url'])"
   ]
  },
  {
   "cell_type": "markdown",
   "metadata": {},
   "source": [
    "### news_content: 명사/알파벳/숫자 추출\n",
    "- tokenizer 함수는 중복제거 단계에서 정의함\n",
    "- news_content 컬럼은 OpneAI에서 사용하기 때문에 삭제하면 안됨"
   ]
  },
  {
   "cell_type": "code",
   "execution_count": 15,
   "metadata": {},
   "outputs": [],
   "source": [
    "preprocessed_text = df['news_content'].apply(lambda x: ' '.join(tokenizer(x)))\n",
    "df['summery_content'] = preprocessed_text"
   ]
  },
  {
   "cell_type": "markdown",
   "metadata": {},
   "source": [
    "### 불용어 정의 및 제거"
   ]
  },
  {
   "cell_type": "code",
   "execution_count": 16,
   "metadata": {},
   "outputs": [],
   "source": [
    "# 먼저 두 컬럼을 각각 리스트로 변환합니다.\n",
    "news_feature_list = df['news_feature'].str.split(',').tolist()\n",
    "news_keyword_list = df['news_keyword'].str.split(',').tolist()\n",
    "\n",
    "# 두 리스트를 합칩니다.\n",
    "total_list = news_feature_list + news_keyword_list\n",
    "\n",
    "# 리스트의 리스트를 하나의 리스트로 변환합니다.\n",
    "flat_list = [item for sublist in total_list for item in sublist]\n",
    "\n",
    "# 리스트를 문자열로 변환하고, 각 단어 사이에 ','를 넣습니다.\n",
    "wordbook = ','.join(flat_list)"
   ]
  },
  {
   "cell_type": "code",
   "execution_count": 17,
   "metadata": {},
   "outputs": [
    {
     "name": "stdout",
     "output_type": "stream",
     "text": [
      "브랜드 :  23783\n",
      "팝업스토어 :  21292\n",
      "팝업 :  19880\n",
      "스토어 :  16792\n",
      "서울 :  13103\n",
      "진행 :  12552\n",
      "운영 :  11294\n",
      "제품 :  11110\n",
      "판매 :  9903\n",
      "상품 :  9896\n",
      "매장 :  9815\n",
      "고객 :  8898\n",
      "행사 :  8842\n",
      "공간 :  8391\n",
      "제공 :  7300\n",
      "대표 :  7169\n",
      "오픈 :  6657\n",
      "인기 :  6652\n",
      "구매 :  6650\n",
      "시장 :  6274\n"
     ]
    }
   ],
   "source": [
    "import collections\n",
    "\n",
    "# 문자열을 다시 리스트로 변환합니다.\n",
    "wordbook_list = wordbook.split(',')\n",
    "\n",
    "# 가장 많이 등장하는 단어를 찾습니다.\n",
    "word_counts = collections.Counter(wordbook_list)\n",
    "\n",
    "# 가장 빈번하게 등장하는 단어 상위 20개를 출력합니다.\n",
    "for word, count in word_counts.most_common(20):\n",
    "    print(word, \": \", count)"
   ]
  },
  {
   "cell_type": "code",
   "execution_count": 18,
   "metadata": {},
   "outputs": [],
   "source": [
    "# 빈번하게 등장하는 단어 + 육안으로 검토했을 당시 필요없는 단어들 포함\n",
    "stopwords = ['브랜드', '팝업스토어', '팝업', '스토어', '서울', '진행', '운영', '제품', '판매', '상품', \n",
    "            '매장', '고객', '행사', '공간', '제공', '대표', '오픈', '인기', '구매', '시장', '오프라인', \n",
    "            '온라인', '매출', '관계자', '소비자', '한국', '출시', '백화점', '론칭', '대한민국']\n"
   ]
  },
  {
   "cell_type": "code",
   "execution_count": 19,
   "metadata": {},
   "outputs": [],
   "source": [
    "def remove_stopwords(text, stopwords):\n",
    "    words = text.split(',')\n",
    "    filtered_words = [word for word in words if word not in stopwords]\n",
    "    return ','.join(filtered_words)\n",
    "\n",
    "df['news_feature'] = df['news_feature'].apply(lambda x: remove_stopwords(x, stopwords))\n",
    "df['news_keyword'] = df['news_keyword'].apply(lambda x: remove_stopwords(x, stopwords))\n"
   ]
  },
  {
   "cell_type": "markdown",
   "metadata": {},
   "source": [
    "### news_feature와 news_keyword: 고유명사 추출 후 제거\n",
    "- 추출한 고유명사는 'NNP' 컬럼에 저장"
   ]
  },
  {
   "cell_type": "code",
   "execution_count": 20,
   "metadata": {},
   "outputs": [],
   "source": [
    "# \"kiwi\"를 사용해서 형태소 분석\n",
    "from itertools import product\n",
    "from kiwipiepy import Kiwi\n",
    "kiwi = Kiwi()"
   ]
  },
  {
   "cell_type": "code",
   "execution_count": 21,
   "metadata": {},
   "outputs": [],
   "source": [
    "# 형태소 분석 및 고유명사 추출 함수 정의\n",
    "def analyze_and_extract_NNP(text):\n",
    "    result = kiwi.analyze(text)\n",
    "    NNP_words = [word for word, tag, _, _ in result[0][0] if tag == 'NNP']\n",
    "    return NNP_words"
   ]
  },
  {
   "cell_type": "code",
   "execution_count": 22,
   "metadata": {},
   "outputs": [],
   "source": [
    "# 쉼표 제거\n",
    "df['news_feature'] = df['news_feature'].str.replace(',', ' ')\n",
    "df['news_keyword'] = df['news_keyword'].str.replace(',', ' ')"
   ]
  },
  {
   "cell_type": "code",
   "execution_count": 23,
   "metadata": {},
   "outputs": [],
   "source": [
    "# news_feature와 news_keyword 열에 대해 고유명사 추출\n",
    "df['NNP'] = df['news_feature'].apply(analyze_and_extract_NNP)\n",
    "df['NNP'] = df['NNP'] + df['news_keyword'].apply(analyze_and_extract_NNP)"
   ]
  },
  {
   "cell_type": "code",
   "execution_count": 24,
   "metadata": {},
   "outputs": [],
   "source": [
    "# 'news_feature' 열 데이터와 'NNP' 열 데이터 비교하여 겹칠 경우 삭제\n",
    "for index, row in df.iterrows():\n",
    "    nnp_list = row['NNP']\n",
    "    news_feature = row['news_feature']\n",
    "    cleaned_news_feature = ' '.join(word for word in news_feature.split() if word not in nnp_list)\n",
    "    df.at[index, 'news_feature_cleaned'] = cleaned_news_feature"
   ]
  },
  {
   "cell_type": "code",
   "execution_count": 25,
   "metadata": {},
   "outputs": [],
   "source": [
    "# 'news_keyword' 열 데이터와 'NNP' 열 데이터 비교하여 겹칠 경우 삭제\n",
    "for index, row in df.iterrows():\n",
    "    nnp_list = row['NNP']\n",
    "    news_keyword = row['news_keyword']\n",
    "    cleaned_news_keyword = ' '.join(word for word in news_keyword.split() if word not in nnp_list)\n",
    "    df.at[index, 'news_keyword_cleaned'] = cleaned_news_keyword"
   ]
  },
  {
   "cell_type": "markdown",
   "metadata": {},
   "source": [
    "# 군집화: K-means\n",
    "### FastText 이용하여 벡터화"
   ]
  },
  {
   "cell_type": "code",
   "execution_count": 26,
   "metadata": {},
   "outputs": [],
   "source": [
    "from gensim.models.fasttext import load_facebook_model\n",
    "\n",
    "# FastText 모델 로드\n",
    "ko_model = load_facebook_model(\"C:/Users/cmhcm/OneDrive/바탕 화면/cc.ko.300.bin\")"
   ]
  },
  {
   "cell_type": "code",
   "execution_count": 27,
   "metadata": {},
   "outputs": [],
   "source": [
    "# 데이터 프레임에서 텍스트 데이터를 가져옵니다.\n",
    "feature_word = df['news_feature_cleaned'].values\n",
    "keywords_word = df['news_keyword_cleaned'].values\n",
    "content_word = df['summery_content'].values\n",
    "\n",
    "\n",
    "# 세 단어장을 결합합니다.\n",
    "combined_data = np.concatenate((feature_word, keywords_word, content_word))"
   ]
  },
  {
   "cell_type": "code",
   "execution_count": 28,
   "metadata": {},
   "outputs": [
    {
     "data": {
      "text/plain": [
       "(1180094, 2761831)"
      ]
     },
     "execution_count": 28,
     "metadata": {},
     "output_type": "execute_result"
    }
   ],
   "source": [
    "# 텍스트를 단어 리스트로 변환하되, 중복되는 단어는 제거합니다.\n",
    "word_lists = [list(set(text.split())) for text in combined_data]\n",
    "\n",
    "# FastText 모델에 데이터를 추가 학습시킵니다.\n",
    "ko_model.build_vocab(word_lists, update=True)\n",
    "ko_model.train(word_lists, total_examples=len(word_lists), epochs=ko_model.epochs)"
   ]
  },
  {
   "cell_type": "code",
   "execution_count": 29,
   "metadata": {},
   "outputs": [],
   "source": [
    "# FastText 벡터화를 수행합니다.\n",
    "vectors = []\n",
    "for text in feature_word:\n",
    "    words = [word for word in text.split() if word in ko_model.wv]\n",
    "    if words:\n",
    "        vector = np.mean([ko_model.wv[word] for word in words], axis=0)\n",
    "    else:\n",
    "        vector = np.zeros(ko_model.vector_size)  # 모델의 벡터 크기에 맞는 제로 벡터를 사용\n",
    "    vectors.append(vector)\n",
    "\n",
    "vectors = np.array(vectors)  # 벡터 리스트를 numpy array로 변환\n",
    "vectors_clustering = vectors.copy()\n"
   ]
  },
  {
   "cell_type": "code",
   "execution_count": 30,
   "metadata": {},
   "outputs": [],
   "source": [
    "from sklearn.cluster import KMeans\n",
    "\n",
    "# 데이터프레임의 행의 수를 가져오는 코드 예시\n",
    "n = len(df)  # df는 데이터프레임 변수명에 맞게 수정해야 합니다.\n",
    "\n",
    "k = 5\n",
    "# KMeans 모델 정의(K-means++로 개선해봄)\n",
    "kmeans = KMeans(n_clusters=k, init='k-means++', random_state=0)\n",
    "\n",
    "\n",
    "# FastText 값에 KMeans 모델 적용\n",
    "kmeans.fit(vectors_clustering)\n",
    "\n",
    "# 군집 결과를 '군집' 컬럼에 저장\n",
    "df['군집'] = kmeans.labels_"
   ]
  },
  {
   "cell_type": "code",
   "execution_count": 31,
   "metadata": {},
   "outputs": [
    {
     "data": {
      "text/plain": [
       "군집\n",
       "0    2980\n",
       "3    2968\n",
       "4    2014\n",
       "1    1651\n",
       "2     816\n",
       "Name: count, dtype: int64"
      ]
     },
     "execution_count": 31,
     "metadata": {},
     "output_type": "execute_result"
    }
   ],
   "source": [
    "df['군집'].value_counts()"
   ]
  },
  {
   "cell_type": "markdown",
   "metadata": {},
   "source": [
    "# ✨✨✨✨✨✨✨✨✨✨✨✨✨✨✨✨✨✨✨✨\n",
    "- '별'로 가둔 구간은 시각화 작업이며 실제 분석에는 영향을 미치지 않습니다.\n",
    "- 클러스터링을 다양하게 해가며 군집의 중심을 체크\n",
    "- 각 중심부의 데이터 100개를 추출해 군집의 특성을 파악하려 했으나 현재까진 인사이트가 도출되지 않습니다. "
   ]
  },
  {
   "cell_type": "markdown",
   "metadata": {},
   "source": [
    "## 군집 시각화"
   ]
  },
  {
   "cell_type": "code",
   "execution_count": 32,
   "metadata": {},
   "outputs": [],
   "source": [
    "from sklearn.decomposition import PCA\n",
    "import matplotlib.pyplot as plt\n",
    "import random"
   ]
  },
  {
   "cell_type": "code",
   "execution_count": 33,
   "metadata": {},
   "outputs": [],
   "source": [
    "# PCA 모델 생성 및 학습\n",
    "pca = PCA(n_components=2)\n",
    "pca_result = pca.fit_transform(vectors_clustering)\n",
    "\n",
    "# PCA 결과를 데이터프레임에 추가\n",
    "df['PCA1'] = pca_result[:, 0]\n",
    "df['PCA2'] = pca_result[:, 1]\n",
    "\n",
    "# KMeans 모델의 군집 중심점을 PCA 변환\n",
    "centroids_pca = pca.transform(kmeans.cluster_centers_)\n"
   ]
  },
  {
   "cell_type": "code",
   "execution_count": 34,
   "metadata": {},
   "outputs": [
    {
     "name": "stderr",
     "output_type": "stream",
     "text": [
      "C:\\Users\\cmhcm\\AppData\\Roaming\\Python\\Python311\\site-packages\\IPython\\core\\pylabtools.py:152: UserWarning: Glyph 44400 (\\N{HANGUL SYLLABLE GUN}) missing from current font.\n",
      "  fig.canvas.print_figure(bytes_io, **kw)\n",
      "C:\\Users\\cmhcm\\AppData\\Roaming\\Python\\Python311\\site-packages\\IPython\\core\\pylabtools.py:152: UserWarning: Glyph 51665 (\\N{HANGUL SYLLABLE JIB}) missing from current font.\n",
      "  fig.canvas.print_figure(bytes_io, **kw)\n",
      "C:\\Users\\cmhcm\\AppData\\Roaming\\Python\\Python311\\site-packages\\IPython\\core\\pylabtools.py:152: UserWarning: Glyph 51473 (\\N{HANGUL SYLLABLE JUNG}) missing from current font.\n",
      "  fig.canvas.print_figure(bytes_io, **kw)\n",
      "C:\\Users\\cmhcm\\AppData\\Roaming\\Python\\Python311\\site-packages\\IPython\\core\\pylabtools.py:152: UserWarning: Glyph 49900 (\\N{HANGUL SYLLABLE SIM}) missing from current font.\n",
      "  fig.canvas.print_figure(bytes_io, **kw)\n"
     ]
    },
    {
     "data": {
      "image/png": "[encoded data removed]",
      "text/plain": [
       "<Figure size 1000x800 with 1 Axes>"
      ]
     },
     "metadata": {},
     "output_type": "display_data"
    }
   ],
   "source": [
    "# 각 군집의 데이터와 중심을 시각화\n",
    "plt.figure(figsize=(10, 8))\n",
    "for i in range(k):\n",
    "    plt.scatter(df[df['군집'] == i]['PCA1'], df[df['군집'] == i]['PCA2'], label='군집 '+str(i))\n",
    "    plt.scatter(centroids_pca[i, 0], centroids_pca[i, 1], label='중심 '+str(i), marker='x', s=200, c='black')\n",
    "plt.legend()\n",
    "plt.show()"
   ]
  },
  {
   "cell_type": "code",
   "execution_count": 35,
   "metadata": {},
   "outputs": [],
   "source": [
    "from sklearn.neighbors import NearestNeighbors\n",
    "\n",
    "# 각 군집의 중심점에서 가장 가까운 100개의 데이터를 찾음\n",
    "nearest_points = []\n",
    "for i in range(k):\n",
    "    # 해당 군집의 데이터를 선택\n",
    "    cluster_points = df[df['군집'] == i][['PCA1', 'PCA2']].values\n",
    "\n",
    "    # NearestNeighbors 모델 생성 및 학습\n",
    "    nn = NearestNeighbors(n_neighbors=100)\n",
    "    nn.fit(cluster_points)\n",
    "\n",
    "    # 군집의 중심점에서 가장 가까운 데이터의 인덱스를 찾음\n",
    "    distances, indices = nn.kneighbors([centroids_pca[i]])\n",
    "\n",
    "    # 가장 가까운 데이터를 선택\n",
    "    nearest_points.append(df.iloc[indices[0]])"
   ]
  },
  {
   "cell_type": "code",
   "execution_count": 36,
   "metadata": {},
   "outputs": [],
   "source": [
    "# 가장 가까운 데이터를 합침\n",
    "nearest_points_df = pd.concat(nearest_points)"
   ]
  },
  {
   "cell_type": "markdown",
   "metadata": {},
   "source": [
    "### 각 군집의 핵심 단어 추출 후 .txt 파일로 저장\n",
    "- 주피터 내에서 보기엔 너무 불편함으로 파일로 저장 후 확인하는 것을 선택했습니다."
   ]
  },
  {
   "cell_type": "code",
   "execution_count": 37,
   "metadata": {},
   "outputs": [],
   "source": [
    "import collections\n",
    "\n",
    "with open('kmeans_output1.txt', 'w', encoding='utf-8') as f:\n",
    "    for i in range(k):\n",
    "        f.write(f\"군집 {i}:\\n\")\n",
    "\n",
    "        for column in ['news_keyword', 'news_feature']:\n",
    "            f.write(f\"{column}에서 가장 많이 등장하는 단어 상위 5개:\\n\")\n",
    "\n",
    "            # 해당 군집에서 해당 컬럼의 데이터를 모두 합칩니다.\n",
    "            text = ','.join(nearest_points_df[nearest_points_df['군집'] == i][column])\n",
    "\n",
    "            # 문자열을 단어로 분리합니다.\n",
    "            words = text.split()\n",
    "\n",
    "            # 가장 많이 등장하는 단어를 찾습니다.\n",
    "            word_counts = collections.Counter(words)\n",
    "\n",
    "            # 가장 빈번하게 등장하는 단어 상위 5개를 출력합니다.\n",
    "            for word, count in word_counts.most_common(5):\n",
    "                f.write(f\"{word} : {count}\\n\")\n",
    "            f.write(\"\\n\")"
   ]
  },
  {
   "cell_type": "markdown",
   "metadata": {},
   "source": [
    "# ✨✨✨✨✨✨✨✨✨✨✨✨✨✨✨✨✨✨✨✨"
   ]
  },
  {
   "cell_type": "markdown",
   "metadata": {},
   "source": [
    "# 사용자 데이터셋 만들기"
   ]
  },
  {
   "cell_type": "markdown",
   "metadata": {},
   "source": [
    "## 팝업스토어 데이터프레임 컬럼 정리\n",
    "- 군집화 과정 중 필요없는 컬럼들이 너무 많아짐"
   ]
  },
  {
   "cell_type": "code",
   "execution_count": 44,
   "metadata": {},
   "outputs": [],
   "source": [
    "new_df = df[['news_id', 'news_feature', '군집']]"
   ]
  },
  {
   "cell_type": "code",
   "execution_count": 55,
   "metadata": {},
   "outputs": [
    {
     "data": {
      "text/html": [
       "<div>\n",
       "<style scoped>\n",
       "    .dataframe tbody tr th:only-of-type {\n",
       "        vertical-align: middle;\n",
       "    }\n",
       "\n",
       "    .dataframe tbody tr th {\n",
       "        vertical-align: top;\n",
       "    }\n",
       "\n",
       "    .dataframe thead th {\n",
       "        text-align: right;\n",
       "    }\n",
       "</style>\n",
       "<table border=\"1\" class=\"dataframe\">\n",
       "  <thead>\n",
       "    <tr style=\"text-align: right;\">\n",
       "      <th></th>\n",
       "      <th>news_id</th>\n",
       "      <th>news_feature</th>\n",
       "      <th>군집</th>\n",
       "    </tr>\n",
       "  </thead>\n",
       "  <tbody>\n",
       "    <tr>\n",
       "      <th>0</th>\n",
       "      <td>02100201.20240214165525001</td>\n",
       "      <td>바퀜 규현 메이커빌 나혼산 신세계백화점 메가플랫폼 온오프라인 신세계 밀폐용기 보관력...</td>\n",
       "      <td>3</td>\n",
       "    </tr>\n",
       "    <tr>\n",
       "      <th>1</th>\n",
       "      <td>02100201.20240214161101001</td>\n",
       "      <td>윙크컴퍼니 뷰티렌즈 대구 울산 큐레이션 정문기 중구 남구 렌즈스토어</td>\n",
       "      <td>3</td>\n",
       "    </tr>\n",
       "    <tr>\n",
       "      <th>2</th>\n",
       "      <td>01500601.20240214160335001</td>\n",
       "      <td>대구 대구불로탁주 불로막걸리 품평회 생막걸리 양조장 한국막걸리협회 동구 생효모 경쟁...</td>\n",
       "      <td>3</td>\n",
       "    </tr>\n",
       "    <tr>\n",
       "      <th>3</th>\n",
       "      <td>07100501.20240214144618001</td>\n",
       "      <td>엄브로 강남점 영국 혼네 신세계백화점 주년 굿즈 엄브 일상복 선현우 신세계 선착순 ...</td>\n",
       "      <td>4</td>\n",
       "    </tr>\n",
       "    <tr>\n",
       "      <th>4</th>\n",
       "      <td>02100501.20240214103102002</td>\n",
       "      <td>영국 엄브로 엄브 신세계백화점 주년 강남점 신세계 축구팀 일상복 오랫동안 선현우 블...</td>\n",
       "      <td>4</td>\n",
       "    </tr>\n",
       "    <tr>\n",
       "      <th>...</th>\n",
       "      <td>...</td>\n",
       "      <td>...</td>\n",
       "      <td>...</td>\n",
       "    </tr>\n",
       "    <tr>\n",
       "      <th>10424</th>\n",
       "      <td>01100901.20240215114426001</td>\n",
       "      <td>블랙핑크 펀딩 영국 전통문화 굿즈 오우르 디자 현대 문체부 공진원 한복상점 와디즈</td>\n",
       "      <td>4</td>\n",
       "    </tr>\n",
       "    <tr>\n",
       "      <th>10425</th>\n",
       "      <td>01400201.20240215112047001</td>\n",
       "      <td>가디 충남 충남문화관광재단 참매 백제 도조 굿즈 무령왕릉 충청도 천연기념물 환경부 ...</td>\n",
       "      <td>1</td>\n",
       "    </tr>\n",
       "    <tr>\n",
       "      <th>10426</th>\n",
       "      <td>02100201.20240215111347001</td>\n",
       "      <td>컬래버레이션 피앳유즈 비비안 메종 라운지웨어 프랑스 성수동 에코백 제인마치 제품들 ...</td>\n",
       "      <td>3</td>\n",
       "    </tr>\n",
       "    <tr>\n",
       "      <th>10427</th>\n",
       "      <td>02100501.20240215102941001</td>\n",
       "      <td>고양 고양시 스타트업 창업자 고양벤처펀드 특례시 고양특례시 중심지</td>\n",
       "      <td>3</td>\n",
       "    </tr>\n",
       "    <tr>\n",
       "      <th>10428</th>\n",
       "      <td>02100201.20240215070053001</td>\n",
       "      <td>웹툰 오노마ai 스타트업 송민 ai 투툰 러시아 llm</td>\n",
       "      <td>1</td>\n",
       "    </tr>\n",
       "  </tbody>\n",
       "</table>\n",
       "<p>10429 rows × 3 columns</p>\n",
       "</div>"
      ],
      "text/plain": [
       "                          news_id  \\\n",
       "0      02100201.20240214165525001   \n",
       "1      02100201.20240214161101001   \n",
       "2      01500601.20240214160335001   \n",
       "3      07100501.20240214144618001   \n",
       "4      02100501.20240214103102002   \n",
       "...                           ...   \n",
       "10424  01100901.20240215114426001   \n",
       "10425  01400201.20240215112047001   \n",
       "10426  02100201.20240215111347001   \n",
       "10427  02100501.20240215102941001   \n",
       "10428  02100201.20240215070053001   \n",
       "\n",
       "                                            news_feature  군집  \n",
       "0      바퀜 규현 메이커빌 나혼산 신세계백화점 메가플랫폼 온오프라인 신세계 밀폐용기 보관력...   3  \n",
       "1                  윙크컴퍼니 뷰티렌즈 대구 울산 큐레이션 정문기 중구 남구 렌즈스토어   3  \n",
       "2      대구 대구불로탁주 불로막걸리 품평회 생막걸리 양조장 한국막걸리협회 동구 생효모 경쟁...   3  \n",
       "3      엄브로 강남점 영국 혼네 신세계백화점 주년 굿즈 엄브 일상복 선현우 신세계 선착순 ...   4  \n",
       "4      영국 엄브로 엄브 신세계백화점 주년 강남점 신세계 축구팀 일상복 오랫동안 선현우 블...   4  \n",
       "...                                                  ...  ..  \n",
       "10424      블랙핑크 펀딩 영국 전통문화 굿즈 오우르 디자 현대 문체부 공진원 한복상점 와디즈   4  \n",
       "10425  가디 충남 충남문화관광재단 참매 백제 도조 굿즈 무령왕릉 충청도 천연기념물 환경부 ...   1  \n",
       "10426  컬래버레이션 피앳유즈 비비안 메종 라운지웨어 프랑스 성수동 에코백 제인마치 제품들 ...   3  \n",
       "10427               고양 고양시 스타트업 창업자 고양벤처펀드 특례시 고양특례시 중심지   3  \n",
       "10428                     웹툰 오노마ai 스타트업 송민 ai 투툰 러시아 llm   1  \n",
       "\n",
       "[10429 rows x 3 columns]"
      ]
     },
     "execution_count": 55,
     "metadata": {},
     "output_type": "execute_result"
    }
   ],
   "source": [
    "new_df"
   ]
  },
  {
   "cell_type": "markdown",
   "metadata": {},
   "source": [
    "## H&M 데이터셋"
   ]
  },
  {
   "cell_type": "code",
   "execution_count": 56,
   "metadata": {},
   "outputs": [],
   "source": [
    "df_article = pd.read_csv(\"C:/Users/cmhcm/OneDrive/바탕 화면/H&M_dataset/articles.csv\", dtype=str)\n",
    "df_transactions = pd.read_csv(\"C:/Users/cmhcm/OneDrive/바탕 화면/H&M_dataset/transactions_train.csv\", dtype=str)"
   ]
  },
  {
   "cell_type": "code",
   "execution_count": 57,
   "metadata": {},
   "outputs": [],
   "source": [
    "df_article = df_article[['article_id', 'index_group_name']]\n",
    "df_transactions = df_transactions[['t_dat', 'customer_id', 'article_id']]"
   ]
  },
  {
   "cell_type": "code",
   "execution_count": 58,
   "metadata": {},
   "outputs": [],
   "source": [
    "# 모든 고객과 모든 상품그룹의 조합을 생성합니다.\n",
    "customers = df_transactions['customer_id'].unique()\n",
    "groups = df_article['index_group_name'].unique()\n",
    "all_combinations = pd.MultiIndex.from_product([customers, groups], names=['customer_id', 'index_group_name']).to_frame(index=False)\n",
    "\n",
    "# 두 데이터프레임을 'article_id'를 기준으로 merge합니다.\n",
    "merged_df = pd.merge(df_transactions, df_article, on='article_id', how='left')\n",
    "\n",
    "# 각 고객이 구매한 상품그룹의 수를 계산합니다.\n",
    "merged_df = merged_df.groupby(['customer_id', 'index_group_name']).size().reset_index(name='count')\n"
   ]
  },
  {
   "cell_type": "code",
   "execution_count": null,
   "metadata": {},
   "outputs": [],
   "source": [
    "replace_values = {'Ladieswear': 0, 'Divided': 3, 'Menswear': 4, 'Sport': 1, 'Baby/Children': 2} \n",
    "merged_df = merged_df.replace({\"index_group_name\": replace_values})"
   ]
  },
  {
   "cell_type": "code",
   "execution_count": 59,
   "metadata": {},
   "outputs": [
    {
     "data": {
      "text/html": [
       "<div>\n",
       "<style scoped>\n",
       "    .dataframe tbody tr th:only-of-type {\n",
       "        vertical-align: middle;\n",
       "    }\n",
       "\n",
       "    .dataframe tbody tr th {\n",
       "        vertical-align: top;\n",
       "    }\n",
       "\n",
       "    .dataframe thead th {\n",
       "        text-align: right;\n",
       "    }\n",
       "</style>\n",
       "<table border=\"1\" class=\"dataframe\">\n",
       "  <thead>\n",
       "    <tr style=\"text-align: right;\">\n",
       "      <th></th>\n",
       "      <th>customer_id</th>\n",
       "      <th>index_group_name</th>\n",
       "      <th>count</th>\n",
       "    </tr>\n",
       "  </thead>\n",
       "  <tbody>\n",
       "    <tr>\n",
       "      <th>0</th>\n",
       "      <td>00000dbacae5abe5e23885899a1fa44253a17956c6d1c3...</td>\n",
       "      <td>Baby/Children</td>\n",
       "      <td>5</td>\n",
       "    </tr>\n",
       "    <tr>\n",
       "      <th>1</th>\n",
       "      <td>00000dbacae5abe5e23885899a1fa44253a17956c6d1c3...</td>\n",
       "      <td>Divided</td>\n",
       "      <td>2</td>\n",
       "    </tr>\n",
       "    <tr>\n",
       "      <th>2</th>\n",
       "      <td>00000dbacae5abe5e23885899a1fa44253a17956c6d1c3...</td>\n",
       "      <td>Ladieswear</td>\n",
       "      <td>13</td>\n",
       "    </tr>\n",
       "    <tr>\n",
       "      <th>3</th>\n",
       "      <td>00000dbacae5abe5e23885899a1fa44253a17956c6d1c3...</td>\n",
       "      <td>Menswear</td>\n",
       "      <td>1</td>\n",
       "    </tr>\n",
       "    <tr>\n",
       "      <th>4</th>\n",
       "      <td>0000423b00ade91418cceaf3b26c6af3dd342b51fd051e...</td>\n",
       "      <td>Baby/Children</td>\n",
       "      <td>4</td>\n",
       "    </tr>\n",
       "    <tr>\n",
       "      <th>...</th>\n",
       "      <td>...</td>\n",
       "      <td>...</td>\n",
       "      <td>...</td>\n",
       "    </tr>\n",
       "    <tr>\n",
       "      <th>2962744</th>\n",
       "      <td>ffffcf35913a0bee60e8741cb2b4e78b8a98ee5ff2e6a1...</td>\n",
       "      <td>Menswear</td>\n",
       "      <td>5</td>\n",
       "    </tr>\n",
       "    <tr>\n",
       "      <th>2962745</th>\n",
       "      <td>ffffcf35913a0bee60e8741cb2b4e78b8a98ee5ff2e6a1...</td>\n",
       "      <td>Sport</td>\n",
       "      <td>3</td>\n",
       "    </tr>\n",
       "    <tr>\n",
       "      <th>2962746</th>\n",
       "      <td>ffffd7744cebcf3aca44ae7049d2a94b87074c3d4ffe38...</td>\n",
       "      <td>Divided</td>\n",
       "      <td>4</td>\n",
       "    </tr>\n",
       "    <tr>\n",
       "      <th>2962747</th>\n",
       "      <td>ffffd7744cebcf3aca44ae7049d2a94b87074c3d4ffe38...</td>\n",
       "      <td>Ladieswear</td>\n",
       "      <td>3</td>\n",
       "    </tr>\n",
       "    <tr>\n",
       "      <th>2962748</th>\n",
       "      <td>ffffd9ac14e89946416d80e791d064701994755c3ab686...</td>\n",
       "      <td>Ladieswear</td>\n",
       "      <td>1</td>\n",
       "    </tr>\n",
       "  </tbody>\n",
       "</table>\n",
       "<p>2962749 rows × 3 columns</p>\n",
       "</div>"
      ],
      "text/plain": [
       "                                               customer_id index_group_name  \\\n",
       "0        00000dbacae5abe5e23885899a1fa44253a17956c6d1c3...    Baby/Children   \n",
       "1        00000dbacae5abe5e23885899a1fa44253a17956c6d1c3...          Divided   \n",
       "2        00000dbacae5abe5e23885899a1fa44253a17956c6d1c3...       Ladieswear   \n",
       "3        00000dbacae5abe5e23885899a1fa44253a17956c6d1c3...         Menswear   \n",
       "4        0000423b00ade91418cceaf3b26c6af3dd342b51fd051e...    Baby/Children   \n",
       "...                                                    ...              ...   \n",
       "2962744  ffffcf35913a0bee60e8741cb2b4e78b8a98ee5ff2e6a1...         Menswear   \n",
       "2962745  ffffcf35913a0bee60e8741cb2b4e78b8a98ee5ff2e6a1...            Sport   \n",
       "2962746  ffffd7744cebcf3aca44ae7049d2a94b87074c3d4ffe38...          Divided   \n",
       "2962747  ffffd7744cebcf3aca44ae7049d2a94b87074c3d4ffe38...       Ladieswear   \n",
       "2962748  ffffd9ac14e89946416d80e791d064701994755c3ab686...       Ladieswear   \n",
       "\n",
       "         count  \n",
       "0            5  \n",
       "1            2  \n",
       "2           13  \n",
       "3            1  \n",
       "4            4  \n",
       "...        ...  \n",
       "2962744      5  \n",
       "2962745      3  \n",
       "2962746      4  \n",
       "2962747      3  \n",
       "2962748      1  \n",
       "\n",
       "[2962749 rows x 3 columns]"
      ]
     },
     "execution_count": 59,
     "metadata": {},
     "output_type": "execute_result"
    }
   ],
   "source": [
    "merged_df"
   ]
  },
  {
   "cell_type": "markdown",
   "metadata": {},
   "source": [
    "## 데이터프레임 합치기"
   ]
  },
  {
   "cell_type": "code",
   "execution_count": 60,
   "metadata": {},
   "outputs": [
    {
     "name": "stderr",
     "output_type": "stream",
     "text": [
      "C:\\Users\\cmhcm\\AppData\\Local\\Temp\\ipykernel_17352\\722137081.py:1: SettingWithCopyWarning: \n",
      "A value is trying to be set on a copy of a slice from a DataFrame\n",
      "\n",
      "See the caveats in the documentation: https://pandas.pydata.org/pandas-docs/stable/user_guide/indexing.html#returning-a-view-versus-a-copy\n",
      "  new_df.rename(columns={'군집': '카테고리'}, inplace=True)\n"
     ]
    }
   ],
   "source": [
    "new_df.rename(columns={'군집': '카테고리'}, inplace=True)\n",
    "merged_df.rename(columns={'index_group_name': '카테고리'}, inplace=True)"
   ]
  },
  {
   "cell_type": "code",
   "execution_count": 69,
   "metadata": {},
   "outputs": [],
   "source": [
    "# 카테고리 시리얼라이징\n",
    "# 사용자 ID와 상품 정보에 대해 카테고리 시리얼라이징을 수행합니다.\n",
    "merged_df['customer_id'] = merged_df['customer_id'].astype('category')\n",
    "merged_df['카테고리'] = merged_df['카테고리'].astype('category')\n",
    "\n",
    "# 데이터 크기 조정\n",
    "# new_df와 merged_df의 크기를 맞추기 위해 필요한 조치를 취합니다.\n",
    "\n",
    "# 데이터 병합\n",
    "# 뉴스기사 데이터와 조정된 사용자 정보를 병합하여 최종적인 데이터프레임을 얻습니다.\n",
    "final_df = pd.merge(new_df, merged_df, left_index=True, right_index=True)"
   ]
  },
  {
   "cell_type": "code",
   "execution_count": 70,
   "metadata": {},
   "outputs": [
    {
     "data": {
      "text/html": [
       "<div>\n",
       "<style scoped>\n",
       "    .dataframe tbody tr th:only-of-type {\n",
       "        vertical-align: middle;\n",
       "    }\n",
       "\n",
       "    .dataframe tbody tr th {\n",
       "        vertical-align: top;\n",
       "    }\n",
       "\n",
       "    .dataframe thead th {\n",
       "        text-align: right;\n",
       "    }\n",
       "</style>\n",
       "<table border=\"1\" class=\"dataframe\">\n",
       "  <thead>\n",
       "    <tr style=\"text-align: right;\">\n",
       "      <th></th>\n",
       "      <th>news_id</th>\n",
       "      <th>news_feature</th>\n",
       "      <th>카테고리_x</th>\n",
       "      <th>뉴스시리얼</th>\n",
       "      <th>나머지값</th>\n",
       "      <th>customer_id</th>\n",
       "      <th>카테고리_y</th>\n",
       "      <th>count</th>\n",
       "    </tr>\n",
       "  </thead>\n",
       "  <tbody>\n",
       "    <tr>\n",
       "      <th>0</th>\n",
       "      <td>02100201.20240214165525001</td>\n",
       "      <td>바퀜 규현 메이커빌 나혼산 신세계백화점 메가플랫폼 온오프라인 신세계 밀폐용기 보관력...</td>\n",
       "      <td>3</td>\n",
       "      <td>0</td>\n",
       "      <td>0</td>\n",
       "      <td>00000dbacae5abe5e23885899a1fa44253a17956c6d1c3...</td>\n",
       "      <td>Baby/Children</td>\n",
       "      <td>5</td>\n",
       "    </tr>\n",
       "    <tr>\n",
       "      <th>1</th>\n",
       "      <td>02100201.20240214161101001</td>\n",
       "      <td>윙크컴퍼니 뷰티렌즈 대구 울산 큐레이션 정문기 중구 남구 렌즈스토어</td>\n",
       "      <td>3</td>\n",
       "      <td>1</td>\n",
       "      <td>1</td>\n",
       "      <td>00000dbacae5abe5e23885899a1fa44253a17956c6d1c3...</td>\n",
       "      <td>Divided</td>\n",
       "      <td>2</td>\n",
       "    </tr>\n",
       "    <tr>\n",
       "      <th>2</th>\n",
       "      <td>01500601.20240214160335001</td>\n",
       "      <td>대구 대구불로탁주 불로막걸리 품평회 생막걸리 양조장 한국막걸리협회 동구 생효모 경쟁...</td>\n",
       "      <td>3</td>\n",
       "      <td>2</td>\n",
       "      <td>2</td>\n",
       "      <td>00000dbacae5abe5e23885899a1fa44253a17956c6d1c3...</td>\n",
       "      <td>Ladieswear</td>\n",
       "      <td>13</td>\n",
       "    </tr>\n",
       "    <tr>\n",
       "      <th>3</th>\n",
       "      <td>07100501.20240214144618001</td>\n",
       "      <td>엄브로 강남점 영국 혼네 신세계백화점 주년 굿즈 엄브 일상복 선현우 신세계 선착순 ...</td>\n",
       "      <td>4</td>\n",
       "      <td>3</td>\n",
       "      <td>0</td>\n",
       "      <td>00000dbacae5abe5e23885899a1fa44253a17956c6d1c3...</td>\n",
       "      <td>Menswear</td>\n",
       "      <td>1</td>\n",
       "    </tr>\n",
       "    <tr>\n",
       "      <th>4</th>\n",
       "      <td>02100501.20240214103102002</td>\n",
       "      <td>영국 엄브로 엄브 신세계백화점 주년 강남점 신세계 축구팀 일상복 오랫동안 선현우 블...</td>\n",
       "      <td>4</td>\n",
       "      <td>4</td>\n",
       "      <td>1</td>\n",
       "      <td>0000423b00ade91418cceaf3b26c6af3dd342b51fd051e...</td>\n",
       "      <td>Baby/Children</td>\n",
       "      <td>4</td>\n",
       "    </tr>\n",
       "    <tr>\n",
       "      <th>...</th>\n",
       "      <td>...</td>\n",
       "      <td>...</td>\n",
       "      <td>...</td>\n",
       "      <td>...</td>\n",
       "      <td>...</td>\n",
       "      <td>...</td>\n",
       "      <td>...</td>\n",
       "      <td>...</td>\n",
       "    </tr>\n",
       "    <tr>\n",
       "      <th>10424</th>\n",
       "      <td>01100901.20240215114426001</td>\n",
       "      <td>블랙핑크 펀딩 영국 전통문화 굿즈 오우르 디자 현대 문체부 공진원 한복상점 와디즈</td>\n",
       "      <td>4</td>\n",
       "      <td>10424</td>\n",
       "      <td>2</td>\n",
       "      <td>00e7483672a09eaf32285605a42c729d5d5a6d999cf0b8...</td>\n",
       "      <td>Divided</td>\n",
       "      <td>21</td>\n",
       "    </tr>\n",
       "    <tr>\n",
       "      <th>10425</th>\n",
       "      <td>01400201.20240215112047001</td>\n",
       "      <td>가디 충남 충남문화관광재단 참매 백제 도조 굿즈 무령왕릉 충청도 천연기념물 환경부 ...</td>\n",
       "      <td>1</td>\n",
       "      <td>10425</td>\n",
       "      <td>0</td>\n",
       "      <td>00e7483672a09eaf32285605a42c729d5d5a6d999cf0b8...</td>\n",
       "      <td>Ladieswear</td>\n",
       "      <td>52</td>\n",
       "    </tr>\n",
       "    <tr>\n",
       "      <th>10426</th>\n",
       "      <td>02100201.20240215111347001</td>\n",
       "      <td>컬래버레이션 피앳유즈 비비안 메종 라운지웨어 프랑스 성수동 에코백 제인마치 제품들 ...</td>\n",
       "      <td>3</td>\n",
       "      <td>10426</td>\n",
       "      <td>1</td>\n",
       "      <td>00e7483672a09eaf32285605a42c729d5d5a6d999cf0b8...</td>\n",
       "      <td>Menswear</td>\n",
       "      <td>5</td>\n",
       "    </tr>\n",
       "    <tr>\n",
       "      <th>10427</th>\n",
       "      <td>02100501.20240215102941001</td>\n",
       "      <td>고양 고양시 스타트업 창업자 고양벤처펀드 특례시 고양특례시 중심지</td>\n",
       "      <td>3</td>\n",
       "      <td>10427</td>\n",
       "      <td>2</td>\n",
       "      <td>00e7483672a09eaf32285605a42c729d5d5a6d999cf0b8...</td>\n",
       "      <td>Sport</td>\n",
       "      <td>5</td>\n",
       "    </tr>\n",
       "    <tr>\n",
       "      <th>10428</th>\n",
       "      <td>02100201.20240215070053001</td>\n",
       "      <td>웹툰 오노마ai 스타트업 송민 ai 투툰 러시아 llm</td>\n",
       "      <td>1</td>\n",
       "      <td>10428</td>\n",
       "      <td>0</td>\n",
       "      <td>00e751aa11263ecf4d5e19aad4ea30efae08f7cc2276d7...</td>\n",
       "      <td>Divided</td>\n",
       "      <td>1</td>\n",
       "    </tr>\n",
       "  </tbody>\n",
       "</table>\n",
       "<p>10429 rows × 8 columns</p>\n",
       "</div>"
      ],
      "text/plain": [
       "                          news_id  \\\n",
       "0      02100201.20240214165525001   \n",
       "1      02100201.20240214161101001   \n",
       "2      01500601.20240214160335001   \n",
       "3      07100501.20240214144618001   \n",
       "4      02100501.20240214103102002   \n",
       "...                           ...   \n",
       "10424  01100901.20240215114426001   \n",
       "10425  01400201.20240215112047001   \n",
       "10426  02100201.20240215111347001   \n",
       "10427  02100501.20240215102941001   \n",
       "10428  02100201.20240215070053001   \n",
       "\n",
       "                                            news_feature  카테고리_x  뉴스시리얼  나머지값  \\\n",
       "0      바퀜 규현 메이커빌 나혼산 신세계백화점 메가플랫폼 온오프라인 신세계 밀폐용기 보관력...       3      0     0   \n",
       "1                  윙크컴퍼니 뷰티렌즈 대구 울산 큐레이션 정문기 중구 남구 렌즈스토어       3      1     1   \n",
       "2      대구 대구불로탁주 불로막걸리 품평회 생막걸리 양조장 한국막걸리협회 동구 생효모 경쟁...       3      2     2   \n",
       "3      엄브로 강남점 영국 혼네 신세계백화점 주년 굿즈 엄브 일상복 선현우 신세계 선착순 ...       4      3     0   \n",
       "4      영국 엄브로 엄브 신세계백화점 주년 강남점 신세계 축구팀 일상복 오랫동안 선현우 블...       4      4     1   \n",
       "...                                                  ...     ...    ...   ...   \n",
       "10424      블랙핑크 펀딩 영국 전통문화 굿즈 오우르 디자 현대 문체부 공진원 한복상점 와디즈       4  10424     2   \n",
       "10425  가디 충남 충남문화관광재단 참매 백제 도조 굿즈 무령왕릉 충청도 천연기념물 환경부 ...       1  10425     0   \n",
       "10426  컬래버레이션 피앳유즈 비비안 메종 라운지웨어 프랑스 성수동 에코백 제인마치 제품들 ...       3  10426     1   \n",
       "10427               고양 고양시 스타트업 창업자 고양벤처펀드 특례시 고양특례시 중심지       3  10427     2   \n",
       "10428                     웹툰 오노마ai 스타트업 송민 ai 투툰 러시아 llm       1  10428     0   \n",
       "\n",
       "                                             customer_id         카테고리_y  count  \n",
       "0      00000dbacae5abe5e23885899a1fa44253a17956c6d1c3...  Baby/Children      5  \n",
       "1      00000dbacae5abe5e23885899a1fa44253a17956c6d1c3...        Divided      2  \n",
       "2      00000dbacae5abe5e23885899a1fa44253a17956c6d1c3...     Ladieswear     13  \n",
       "3      00000dbacae5abe5e23885899a1fa44253a17956c6d1c3...       Menswear      1  \n",
       "4      0000423b00ade91418cceaf3b26c6af3dd342b51fd051e...  Baby/Children      4  \n",
       "...                                                  ...            ...    ...  \n",
       "10424  00e7483672a09eaf32285605a42c729d5d5a6d999cf0b8...        Divided     21  \n",
       "10425  00e7483672a09eaf32285605a42c729d5d5a6d999cf0b8...     Ladieswear     52  \n",
       "10426  00e7483672a09eaf32285605a42c729d5d5a6d999cf0b8...       Menswear      5  \n",
       "10427  00e7483672a09eaf32285605a42c729d5d5a6d999cf0b8...          Sport      5  \n",
       "10428  00e751aa11263ecf4d5e19aad4ea30efae08f7cc2276d7...        Divided      1  \n",
       "\n",
       "[10429 rows x 8 columns]"
      ]
     },
     "execution_count": 70,
     "metadata": {},
     "output_type": "execute_result"
    }
   ],
   "source": [
    "final_df"
   ]
  },
  {
   "cell_type": "code",
   "execution_count": 73,
   "metadata": {},
   "outputs": [
    {
     "name": "stdout",
     "output_type": "stream",
     "text": [
      "고유한 고객 ID의 수: 4750\n"
     ]
    }
   ],
   "source": [
    "# final_df 데이터프레임에서 customer_id 컬럼의 고유한 값의 수를 확인\n",
    "num_unique_customers = final_df['customer_id'].nunique()\n",
    "\n",
    "print(\"고유한 고객 ID의 수:\", num_unique_customers)"
   ]
  },
  {
   "cell_type": "code",
   "execution_count": 74,
   "metadata": {},
   "outputs": [
    {
     "name": "stdout",
     "output_type": "stream",
     "text": [
      "첫 번째 행의 customer_id: 00000dbacae5abe5e23885899a1fa44253a17956c6d1c3d25f88aa139fdfc657\n"
     ]
    }
   ],
   "source": [
    "first_customer_id = final_df.loc[0, 'customer_id']\n",
    "print(\"첫 번째 행의 customer_id:\", first_customer_id)\n"
   ]
  },
  {
   "cell_type": "code",
   "execution_count": 76,
   "metadata": {},
   "outputs": [
    {
     "data": {
      "text/html": [
       "<div>\n",
       "<style scoped>\n",
       "    .dataframe tbody tr th:only-of-type {\n",
       "        vertical-align: middle;\n",
       "    }\n",
       "\n",
       "    .dataframe tbody tr th {\n",
       "        vertical-align: top;\n",
       "    }\n",
       "\n",
       "    .dataframe thead th {\n",
       "        text-align: right;\n",
       "    }\n",
       "</style>\n",
       "<table border=\"1\" class=\"dataframe\">\n",
       "  <thead>\n",
       "    <tr style=\"text-align: right;\">\n",
       "      <th></th>\n",
       "      <th>news_id</th>\n",
       "      <th>news_feature</th>\n",
       "      <th>카테고리_x</th>\n",
       "      <th>뉴스시리얼</th>\n",
       "      <th>나머지값</th>\n",
       "      <th>customer_id</th>\n",
       "      <th>카테고리_y</th>\n",
       "      <th>count</th>\n",
       "    </tr>\n",
       "  </thead>\n",
       "  <tbody>\n",
       "    <tr>\n",
       "      <th>0</th>\n",
       "      <td>02100201.20240214165525001</td>\n",
       "      <td>바퀜 규현 메이커빌 나혼산 신세계백화점 메가플랫폼 온오프라인 신세계 밀폐용기 보관력...</td>\n",
       "      <td>3</td>\n",
       "      <td>0</td>\n",
       "      <td>0</td>\n",
       "      <td>00000dbacae5abe5e23885899a1fa44253a17956c6d1c3...</td>\n",
       "      <td>Baby/Children</td>\n",
       "      <td>5</td>\n",
       "    </tr>\n",
       "    <tr>\n",
       "      <th>1</th>\n",
       "      <td>02100201.20240214161101001</td>\n",
       "      <td>윙크컴퍼니 뷰티렌즈 대구 울산 큐레이션 정문기 중구 남구 렌즈스토어</td>\n",
       "      <td>3</td>\n",
       "      <td>1</td>\n",
       "      <td>1</td>\n",
       "      <td>00000dbacae5abe5e23885899a1fa44253a17956c6d1c3...</td>\n",
       "      <td>Divided</td>\n",
       "      <td>2</td>\n",
       "    </tr>\n",
       "    <tr>\n",
       "      <th>2</th>\n",
       "      <td>01500601.20240214160335001</td>\n",
       "      <td>대구 대구불로탁주 불로막걸리 품평회 생막걸리 양조장 한국막걸리협회 동구 생효모 경쟁...</td>\n",
       "      <td>3</td>\n",
       "      <td>2</td>\n",
       "      <td>2</td>\n",
       "      <td>00000dbacae5abe5e23885899a1fa44253a17956c6d1c3...</td>\n",
       "      <td>Ladieswear</td>\n",
       "      <td>13</td>\n",
       "    </tr>\n",
       "    <tr>\n",
       "      <th>3</th>\n",
       "      <td>07100501.20240214144618001</td>\n",
       "      <td>엄브로 강남점 영국 혼네 신세계백화점 주년 굿즈 엄브 일상복 선현우 신세계 선착순 ...</td>\n",
       "      <td>4</td>\n",
       "      <td>3</td>\n",
       "      <td>0</td>\n",
       "      <td>00000dbacae5abe5e23885899a1fa44253a17956c6d1c3...</td>\n",
       "      <td>Menswear</td>\n",
       "      <td>1</td>\n",
       "    </tr>\n",
       "  </tbody>\n",
       "</table>\n",
       "</div>"
      ],
      "text/plain": [
       "                      news_id  \\\n",
       "0  02100201.20240214165525001   \n",
       "1  02100201.20240214161101001   \n",
       "2  01500601.20240214160335001   \n",
       "3  07100501.20240214144618001   \n",
       "\n",
       "                                        news_feature  카테고리_x  뉴스시리얼  나머지값  \\\n",
       "0  바퀜 규현 메이커빌 나혼산 신세계백화점 메가플랫폼 온오프라인 신세계 밀폐용기 보관력...       3      0     0   \n",
       "1              윙크컴퍼니 뷰티렌즈 대구 울산 큐레이션 정문기 중구 남구 렌즈스토어       3      1     1   \n",
       "2  대구 대구불로탁주 불로막걸리 품평회 생막걸리 양조장 한국막걸리협회 동구 생효모 경쟁...       3      2     2   \n",
       "3  엄브로 강남점 영국 혼네 신세계백화점 주년 굿즈 엄브 일상복 선현우 신세계 선착순 ...       4      3     0   \n",
       "\n",
       "                                         customer_id         카테고리_y  count  \n",
       "0  00000dbacae5abe5e23885899a1fa44253a17956c6d1c3...  Baby/Children      5  \n",
       "1  00000dbacae5abe5e23885899a1fa44253a17956c6d1c3...        Divided      2  \n",
       "2  00000dbacae5abe5e23885899a1fa44253a17956c6d1c3...     Ladieswear     13  \n",
       "3  00000dbacae5abe5e23885899a1fa44253a17956c6d1c3...       Menswear      1  "
      ]
     },
     "execution_count": 76,
     "metadata": {},
     "output_type": "execute_result"
    }
   ],
   "source": [
    "desired_customer_id = '00000dbacae5abe5e23885899a1fa44253a17956c6d1c3d25f88aa139fdfc657'\n",
    "desired_row = final_df[final_df['customer_id'] == desired_customer_id]\n",
    "desired_row\n"
   ]
  },
  {
   "cell_type": "code",
   "execution_count": null,
   "metadata": {},
   "outputs": [],
   "source": []
  }
 ],
 "metadata": {
  "kernelspec": {
   "display_name": "Python 3",
   "language": "python",
   "name": "python3"
  },
  "language_info": {
   "codemirror_mode": {
    "name": "ipython",
    "version": 3
   },
   "file_extension": ".py",
   "mimetype": "text/x-python",
   "name": "python",
   "nbconvert_exporter": "python",
   "pygments_lexer": "ipython3",
   "version": "3.11.5"
  }
 },
 "nbformat": 4,
 "nbformat_minor": 2
}
