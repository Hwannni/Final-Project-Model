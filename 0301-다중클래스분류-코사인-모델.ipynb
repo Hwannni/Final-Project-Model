{
 "cells": [
  {
   "cell_type": "code",
   "execution_count": 1,
   "metadata": {},
   "outputs": [
    {
     "name": "stdout",
     "output_type": "stream",
     "text": [
      "Requirement already satisfied: matplotlib in c:\\users\\cmhcm\\appdata\\local\\programs\\python\\python311\\lib\\site-packages (3.8.3)\n",
      "Requirement already satisfied: contourpy>=1.0.1 in c:\\users\\cmhcm\\appdata\\local\\programs\\python\\python311\\lib\\site-packages (from matplotlib) (1.2.0)\n",
      "Requirement already satisfied: cycler>=0.10 in c:\\users\\cmhcm\\appdata\\local\\programs\\python\\python311\\lib\\site-packages (from matplotlib) (0.12.1)\n",
      "Requirement already satisfied: fonttools>=4.22.0 in c:\\users\\cmhcm\\appdata\\local\\programs\\python\\python311\\lib\\site-packages (from matplotlib) (4.49.0)\n",
      "Requirement already satisfied: kiwisolver>=1.3.1 in c:\\users\\cmhcm\\appdata\\local\\programs\\python\\python311\\lib\\site-packages (from matplotlib) (1.4.5)\n",
      "Requirement already satisfied: numpy<2,>=1.21 in c:\\users\\cmhcm\\appdata\\local\\programs\\python\\python311\\lib\\site-packages (from matplotlib) (1.26.4)\n",
      "Requirement already satisfied: packaging>=20.0 in c:\\users\\cmhcm\\appdata\\roaming\\python\\python311\\site-packages (from matplotlib) (23.2)\n",
      "Requirement already satisfied: pillow>=8 in c:\\users\\cmhcm\\appdata\\local\\programs\\python\\python311\\lib\\site-packages (from matplotlib) (10.2.0)\n",
      "Requirement already satisfied: pyparsing>=2.3.1 in c:\\users\\cmhcm\\appdata\\local\\programs\\python\\python311\\lib\\site-packages (from matplotlib) (3.1.1)\n",
      "Requirement already satisfied: python-dateutil>=2.7 in c:\\users\\cmhcm\\appdata\\roaming\\python\\python311\\site-packages (from matplotlib) (2.8.2)\n",
      "Requirement already satisfied: six>=1.5 in c:\\users\\cmhcm\\appdata\\roaming\\python\\python311\\site-packages (from python-dateutil>=2.7->matplotlib) (1.16.0)\n",
      "Note: you may need to restart the kernel to use updated packages.\n"
     ]
    },
    {
     "name": "stderr",
     "output_type": "stream",
     "text": [
      "\n",
      "[notice] A new release of pip is available: 23.2.1 -> 24.0\n",
      "[notice] To update, run: python.exe -m pip install --upgrade pip\n"
     ]
    }
   ],
   "source": [
    "pip install matplotlib"
   ]
  },
  {
   "cell_type": "code",
   "execution_count": 2,
   "metadata": {},
   "outputs": [
    {
     "name": "stdout",
     "output_type": "stream",
     "text": [
      "Requirement already satisfied: kiwipiepy in c:\\users\\cmhcm\\appdata\\local\\programs\\python\\python311\\lib\\site-packages (0.16.2)\n",
      "Requirement already satisfied: kiwipiepy-model~=0.16 in c:\\users\\cmhcm\\appdata\\local\\programs\\python\\python311\\lib\\site-packages (from kiwipiepy) (0.16.0)\n",
      "Requirement already satisfied: numpy in c:\\users\\cmhcm\\appdata\\local\\programs\\python\\python311\\lib\\site-packages (from kiwipiepy) (1.26.4)\n",
      "Requirement already satisfied: tqdm in c:\\users\\cmhcm\\appdata\\local\\programs\\python\\python311\\lib\\site-packages (from kiwipiepy) (4.66.1)\n",
      "Requirement already satisfied: colorama in c:\\users\\cmhcm\\appdata\\roaming\\python\\python311\\site-packages (from tqdm->kiwipiepy) (0.4.6)\n",
      "Note: you may need to restart the kernel to use updated packages.\n"
     ]
    },
    {
     "name": "stderr",
     "output_type": "stream",
     "text": [
      "\n",
      "[notice] A new release of pip is available: 23.2.1 -> 24.0\n",
      "[notice] To update, run: python.exe -m pip install --upgrade pip\n"
     ]
    }
   ],
   "source": [
    "pip install kiwipiepy"
   ]
  },
  {
   "cell_type": "code",
   "execution_count": 3,
   "metadata": {},
   "outputs": [
    {
     "name": "stdout",
     "output_type": "stream",
     "text": [
      "Requirement already satisfied: gensim in c:\\users\\cmhcm\\appdata\\local\\programs\\python\\python311\\lib\\site-packages (4.3.2)\n",
      "Requirement already satisfied: numpy>=1.18.5 in c:\\users\\cmhcm\\appdata\\local\\programs\\python\\python311\\lib\\site-packages (from gensim) (1.26.4)\n",
      "Requirement already satisfied: scipy>=1.7.0 in c:\\users\\cmhcm\\appdata\\local\\programs\\python\\python311\\lib\\site-packages (from gensim) (1.12.0)\n",
      "Requirement already satisfied: smart-open>=1.8.1 in c:\\users\\cmhcm\\appdata\\local\\programs\\python\\python311\\lib\\site-packages (from gensim) (6.4.0)\n",
      "Note: you may need to restart the kernel to use updated packages.\n"
     ]
    },
    {
     "name": "stderr",
     "output_type": "stream",
     "text": [
      "\n",
      "[notice] A new release of pip is available: 23.2.1 -> 24.0\n",
      "[notice] To update, run: python.exe -m pip install --upgrade pip\n"
     ]
    }
   ],
   "source": [
    "pip install gensim"
   ]
  },
  {
   "cell_type": "code",
   "execution_count": 4,
   "metadata": {},
   "outputs": [
    {
     "name": "stdout",
     "output_type": "stream",
     "text": [
      "Requirement already satisfied: konlpy in c:\\users\\cmhcm\\appdata\\local\\programs\\python\\python311\\lib\\site-packages (0.6.0)\n",
      "Requirement already satisfied: JPype1>=0.7.0 in c:\\users\\cmhcm\\appdata\\local\\programs\\python\\python311\\lib\\site-packages (from konlpy) (1.5.0)\n",
      "Requirement already satisfied: lxml>=4.1.0 in c:\\users\\cmhcm\\appdata\\local\\programs\\python\\python311\\lib\\site-packages (from konlpy) (5.1.0)\n",
      "Requirement already satisfied: numpy>=1.6 in c:\\users\\cmhcm\\appdata\\local\\programs\\python\\python311\\lib\\site-packages (from konlpy) (1.26.4)\n",
      "Requirement already satisfied: packaging in c:\\users\\cmhcm\\appdata\\roaming\\python\\python311\\site-packages (from JPype1>=0.7.0->konlpy) (23.2)\n",
      "Note: you may need to restart the kernel to use updated packages.\n"
     ]
    },
    {
     "name": "stderr",
     "output_type": "stream",
     "text": [
      "\n",
      "[notice] A new release of pip is available: 23.2.1 -> 24.0\n",
      "[notice] To update, run: python.exe -m pip install --upgrade pip\n"
     ]
    }
   ],
   "source": [
    "pip install konlpy"
   ]
  },
  {
   "cell_type": "code",
   "execution_count": 5,
   "metadata": {},
   "outputs": [
    {
     "name": "stderr",
     "output_type": "stream",
     "text": [
      "C:\\Users\\cmhcm\\AppData\\Local\\Temp\\ipykernel_13960\\1662815981.py:2: DeprecationWarning: \n",
      "Pyarrow will become a required dependency of pandas in the next major release of pandas (pandas 3.0),\n",
      "(to allow more performant data types, such as the Arrow string type, and better interoperability with other libraries)\n",
      "but was not found to be installed on your system.\n",
      "If this would cause problems for you,\n",
      "please provide us feedback at https://github.com/pandas-dev/pandas/issues/54466\n",
      "        \n",
      "  import pandas as pd\n"
     ]
    }
   ],
   "source": [
    "import numpy as np\n",
    "import pandas as pd"
   ]
  },
  {
   "cell_type": "markdown",
   "metadata": {},
   "source": [
    "## 14781개 뉴스 데이터 가져오기\n",
    "- 풀본문 있는 데이터 입니다."
   ]
  },
  {
   "cell_type": "code",
   "execution_count": 6,
   "metadata": {},
   "outputs": [
    {
     "name": "stdout",
     "output_type": "stream",
     "text": [
      "<class 'pandas.core.frame.DataFrame'>\n",
      "RangeIndex: 14761 entries, 0 to 14760\n",
      "Data columns (total 7 columns):\n",
      " #   Column        Non-Null Count  Dtype \n",
      "---  ------        --------------  ----- \n",
      " 0   news_id       14761 non-null  object\n",
      " 1   news_date     14761 non-null  object\n",
      " 2   news_keyword  14761 non-null  object\n",
      " 3   news_feature  14761 non-null  object\n",
      " 4   news_url      14686 non-null  object\n",
      " 5   news_content  14761 non-null  object\n",
      " 6   img_url       13992 non-null  object\n",
      "dtypes: object(7)\n",
      "memory usage: 807.4+ KB\n"
     ]
    }
   ],
   "source": [
    "data_path = \"C:/dev/openAI/result_df_14761.csv\"\n",
    "df = pd.read_csv(data_path, dtype=str)\n",
    "\n",
    "df.info()"
   ]
  },
  {
   "cell_type": "markdown",
   "metadata": {},
   "source": [
    "# 중복제거 로직\n",
    "- 형태소 분석기: Okt\n",
    "- 벡터화: CountVectorizer\n",
    "- 중복 기준: news_content 컬럼 데이터"
   ]
  },
  {
   "cell_type": "code",
   "execution_count": 7,
   "metadata": {},
   "outputs": [],
   "source": [
    "from konlpy.tag import Okt\n",
    "\n",
    "# 형태소 분석기 초기화\n",
    "okt = Okt()"
   ]
  },
  {
   "cell_type": "code",
   "execution_count": 8,
   "metadata": {},
   "outputs": [],
   "source": [
    "from tqdm import tqdm\n",
    "from sklearn.feature_extraction.text import TfidfVectorizer\n",
    "\n",
    "# 전처리 함수 정의\n",
    "def tokenizer(raw, pos=[\"Noun\", \"Alpha\", \"Number\"], stopword=[]):\n",
    "    return [\n",
    "        word for word, tag in okt.pos(\n",
    "            raw,\n",
    "            norm=True,\n",
    "            stem=True\n",
    "            )\n",
    "            if len(word) > 1 and tag in pos and word not in stopword\n",
    "        ]"
   ]
  },
  {
   "cell_type": "markdown",
   "metadata": {},
   "source": [
    "## 전처리 및 벡터화"
   ]
  },
  {
   "cell_type": "code",
   "execution_count": 9,
   "metadata": {},
   "outputs": [],
   "source": [
    "from sklearn.feature_extraction.text import CountVectorizer\n",
    "\n",
    "vectorize = CountVectorizer(\n",
    "    tokenizer=tokenizer,\n",
    "    min_df=2\n",
    ")"
   ]
  },
  {
   "cell_type": "code",
   "execution_count": 10,
   "metadata": {},
   "outputs": [
    {
     "name": "stderr",
     "output_type": "stream",
     "text": [
      "c:\\Users\\cmhcm\\AppData\\Local\\Programs\\Python\\Python311\\Lib\\site-packages\\sklearn\\feature_extraction\\text.py:525: UserWarning: The parameter 'token_pattern' will not be used since 'tokenizer' is not None'\n",
      "  warnings.warn(\n"
     ]
    }
   ],
   "source": [
    "# 기사 본문에 나오는 단어의 빈도 계산\n",
    "X = vectorize.fit_transform(df['news_content'])"
   ]
  },
  {
   "cell_type": "code",
   "execution_count": 11,
   "metadata": {},
   "outputs": [],
   "source": [
    "from sklearn.metrics.pairwise import cosine_similarity\n",
    "\n",
    "# 코사인 유사도 계산\n",
    "cos_sim = cosine_similarity(X)\n",
    "\n",
    "# 코사인 유사도가 0.9 이상인 경우를 중복으로 판단\n",
    "dup_idx = np.where(cos_sim > 0.9)"
   ]
  },
  {
   "cell_type": "code",
   "execution_count": 12,
   "metadata": {},
   "outputs": [],
   "source": [
    "# 중복 기사 인덱스와 제목 출력 및 중복 기사 제거\n",
    "to_drop = []\n",
    "\n",
    "for i in range(len(dup_idx[0])):\n",
    "    if dup_idx[0][i] != dup_idx[1][i]:  # 자기 자신과의 유사도는 제외\n",
    "\n",
    "        # 먼저 게시된 기사를 남기고 싶으므로 인덱스가 더 작은 행을 제거\n",
    "        to_remove = min(dup_idx[0][i], dup_idx[1][i])\n",
    "        # print(\"삭제되는 기사 제목: \", df.iloc[to_remove]['news_id'])\n",
    "        # print()\n",
    "\n",
    "        to_drop.append(to_remove)\n",
    "\n",
    "# 중복 기사 제거\n",
    "df = df.drop(to_drop)\n",
    "# 인덱스 재설정\n",
    "df = df.reset_index(drop=True)"
   ]
  },
  {
   "cell_type": "markdown",
   "metadata": {},
   "source": [
    "### 4,353개의 중복기사 제거"
   ]
  },
  {
   "cell_type": "code",
   "execution_count": 13,
   "metadata": {},
   "outputs": [
    {
     "data": {
      "text/plain": [
       "(10429, 7)"
      ]
     },
     "execution_count": 13,
     "metadata": {},
     "output_type": "execute_result"
    }
   ],
   "source": [
    "# 중복제거 확인\n",
    "df.shape"
   ]
  },
  {
   "cell_type": "markdown",
   "metadata": {},
   "source": [
    "# 전처리"
   ]
  },
  {
   "cell_type": "markdown",
   "metadata": {},
   "source": [
    "### news_url: null일 경우 삭제"
   ]
  },
  {
   "cell_type": "code",
   "execution_count": 14,
   "metadata": {},
   "outputs": [],
   "source": [
    "# url컬럼이 null 값을 가진 행 삭제\n",
    "# df = df.dropna(subset=['news_url'])"
   ]
  },
  {
   "cell_type": "markdown",
   "metadata": {},
   "source": [
    "### news_content: 명사/알파벳/숫자 추출\n",
    "- tokenizer 함수는 중복제거 단계에서 정의함\n",
    "- news_content 컬럼은 OpneAI에서 사용하기 때문에 삭제하면 안됨"
   ]
  },
  {
   "cell_type": "code",
   "execution_count": 15,
   "metadata": {},
   "outputs": [],
   "source": [
    "preprocessed_text = df['news_content'].apply(lambda x: ' '.join(tokenizer(x)))\n",
    "df['summery_content'] = preprocessed_text"
   ]
  },
  {
   "cell_type": "markdown",
   "metadata": {},
   "source": [
    "### 불용어 정의 및 제거"
   ]
  },
  {
   "cell_type": "code",
   "execution_count": 16,
   "metadata": {},
   "outputs": [],
   "source": [
    "# 먼저 두 컬럼을 각각 리스트로 변환합니다.\n",
    "news_feature_list = df['news_feature'].str.split(',').tolist()\n",
    "news_keyword_list = df['news_keyword'].str.split(',').tolist()\n",
    "\n",
    "# 두 리스트를 합칩니다.\n",
    "total_list = news_feature_list + news_keyword_list\n",
    "\n",
    "# 리스트의 리스트를 하나의 리스트로 변환합니다.\n",
    "flat_list = [item for sublist in total_list for item in sublist]\n",
    "\n",
    "# 리스트를 문자열로 변환하고, 각 단어 사이에 ','를 넣습니다.\n",
    "wordbook = ','.join(flat_list)"
   ]
  },
  {
   "cell_type": "code",
   "execution_count": 17,
   "metadata": {},
   "outputs": [
    {
     "name": "stdout",
     "output_type": "stream",
     "text": [
      "브랜드 :  23783\n",
      "팝업스토어 :  21292\n",
      "팝업 :  19880\n",
      "스토어 :  16792\n",
      "서울 :  13103\n",
      "진행 :  12552\n",
      "운영 :  11294\n",
      "제품 :  11110\n",
      "판매 :  9903\n",
      "상품 :  9896\n",
      "매장 :  9815\n",
      "고객 :  8898\n",
      "행사 :  8842\n",
      "공간 :  8391\n",
      "제공 :  7300\n",
      "대표 :  7169\n",
      "오픈 :  6657\n",
      "인기 :  6652\n",
      "구매 :  6650\n",
      "시장 :  6274\n"
     ]
    }
   ],
   "source": [
    "import collections\n",
    "\n",
    "# 문자열을 다시 리스트로 변환합니다.\n",
    "wordbook_list = wordbook.split(',')\n",
    "\n",
    "# 가장 많이 등장하는 단어를 찾습니다.\n",
    "word_counts = collections.Counter(wordbook_list)\n",
    "\n",
    "# 가장 빈번하게 등장하는 단어 상위 20개를 출력합니다.\n",
    "for word, count in word_counts.most_common(20):\n",
    "    print(word, \": \", count)\n"
   ]
  },
  {
   "cell_type": "code",
   "execution_count": 18,
   "metadata": {},
   "outputs": [],
   "source": [
    "stopwords = ['브랜드', '팝업스토어', '팝업', '스토어', '서울', '진행', '운영', '제품', '판매', '상품', \n",
    "            '매장', '고객', '행사', '공간', '제공', '대표', '오픈', '인기', '구매', '시장', '오프라인', \n",
    "            '온라인', '매출', '관계자', '소비자', '한국', '출시', '백화점', '론칭', '대한민국']\n"
   ]
  },
  {
   "cell_type": "code",
   "execution_count": 19,
   "metadata": {},
   "outputs": [],
   "source": [
    "def remove_stopwords(text, stopwords):\n",
    "    words = text.split(',')\n",
    "    filtered_words = [word for word in words if word not in stopwords]\n",
    "    return ','.join(filtered_words)\n",
    "\n",
    "df['news_feature'] = df['news_feature'].apply(lambda x: remove_stopwords(x, stopwords))\n",
    "df['news_keyword'] = df['news_keyword'].apply(lambda x: remove_stopwords(x, stopwords))\n"
   ]
  },
  {
   "cell_type": "markdown",
   "metadata": {},
   "source": [
    "### news_feature와 news_keyword: 고유명사 추출 후 제거\n",
    "- 추출한 고유명사는 'NNP' 컬럼에 저장"
   ]
  },
  {
   "cell_type": "code",
   "execution_count": 20,
   "metadata": {},
   "outputs": [],
   "source": [
    "# \"kiwi\"를 사용해서 형태소 분석\n",
    "from itertools import product\n",
    "from kiwipiepy import Kiwi\n",
    "kiwi = Kiwi()"
   ]
  },
  {
   "cell_type": "code",
   "execution_count": 21,
   "metadata": {},
   "outputs": [],
   "source": [
    "# 형태소 분석 및 고유명사 추출 함수 정의\n",
    "def analyze_and_extract_NNP(text):\n",
    "    result = kiwi.analyze(text)\n",
    "    NNP_words = [word for word, tag, _, _ in result[0][0] if tag == 'NNP']\n",
    "    return NNP_words"
   ]
  },
  {
   "cell_type": "code",
   "execution_count": 22,
   "metadata": {},
   "outputs": [],
   "source": [
    "# 쉼표 제거\n",
    "df['news_feature'] = df['news_feature'].str.replace(',', ' ')\n",
    "df['news_keyword'] = df['news_keyword'].str.replace(',', ' ') "
   ]
  },
  {
   "cell_type": "code",
   "execution_count": 23,
   "metadata": {},
   "outputs": [],
   "source": [
    "# news_feature와 news_keyword 열에 대해 고유명사 추출\n",
    "df['NNP'] = df['news_feature'].apply(analyze_and_extract_NNP)\n",
    "df['NNP'] = df['NNP'] + df['news_keyword'].apply(analyze_and_extract_NNP)"
   ]
  },
  {
   "cell_type": "code",
   "execution_count": 24,
   "metadata": {},
   "outputs": [],
   "source": [
    "def clean_column(df, column_name, nnp_list):\n",
    "    for index, row in df.iterrows():\n",
    "        column_data = row[column_name]\n",
    "        cleaned_data = ' '.join(word for word in column_data.split() if word not in nnp_list)\n",
    "        df.at[index, f'{column_name}_cleaned'] = cleaned_data\n",
    "\n",
    "    return df"
   ]
  },
  {
   "cell_type": "code",
   "execution_count": 25,
   "metadata": {},
   "outputs": [],
   "source": [
    "# 'news_feature' 열 데이터와 'NNP' 열 데이터 비교하여 겹칠 경우 삭제\n",
    "df = clean_column(df, 'news_feature', df['NNP'])\n",
    "\n",
    "# 'news_keyword' 열 데이터와 'NNP' 열 데이터 비교하여 겹칠 경우 삭제\n",
    "df = clean_column(df, 'news_keyword', df['NNP'])"
   ]
  },
  {
   "cell_type": "markdown",
   "metadata": {},
   "source": [
    "# 군집화: K-means\n",
    "### FastText 이용하여 벡터화"
   ]
  },
  {
   "cell_type": "code",
   "execution_count": 26,
   "metadata": {},
   "outputs": [],
   "source": [
    "from gensim.models.fasttext import load_facebook_model\n",
    "\n",
    "# FastText 모델 로드\n",
    "ko_model = load_facebook_model(\"C:/Users/cmhcm/OneDrive/바탕 화면/cc.ko.300.bin\")"
   ]
  },
  {
   "cell_type": "code",
   "execution_count": 27,
   "metadata": {},
   "outputs": [],
   "source": [
    "# 데이터 프레임에서 텍스트 데이터를 가져옵니다.\n",
    "feature_word = df['news_feature_cleaned'].values\n",
    "keywords_word = df['news_keyword_cleaned'].values\n",
    "content_word = df['summery_content'].values\n",
    "\n",
    "\n",
    "# 세 단어장을 결합합니다.\n",
    "combined_data = np.concatenate((feature_word, keywords_word, content_word))"
   ]
  },
  {
   "cell_type": "code",
   "execution_count": 28,
   "metadata": {},
   "outputs": [
    {
     "data": {
      "text/plain": [
       "(1180290, 2762430)"
      ]
     },
     "execution_count": 28,
     "metadata": {},
     "output_type": "execute_result"
    }
   ],
   "source": [
    "# 텍스트를 단어 리스트로 변환하되, 중복되는 단어는 제거합니다.\n",
    "word_lists = [list(set(text.split())) for text in combined_data]\n",
    "\n",
    "# FastText 모델에 데이터를 추가 학습시킵니다.\n",
    "ko_model.build_vocab(word_lists, update=True)\n",
    "ko_model.train(word_lists, total_examples=len(word_lists), epochs=ko_model.epochs)"
   ]
  },
  {
   "cell_type": "code",
   "execution_count": 29,
   "metadata": {},
   "outputs": [],
   "source": [
    "# FastText 벡터화를 수행합니다.\n",
    "vectors = []\n",
    "for text in feature_word:\n",
    "    words = [word for word in text.split() if word in ko_model.wv]\n",
    "    if words:\n",
    "        vector = np.mean([ko_model.wv[word] for word in words], axis=0)\n",
    "    else:\n",
    "        vector = np.zeros(ko_model.vector_size)  # 모델의 벡터 크기에 맞는 제로 벡터를 사용\n",
    "    vectors.append(vector)\n",
    "\n",
    "vectors = np.array(vectors)  # 벡터 리스트를 numpy array로 변환\n",
    "vectors_clustering = vectors.copy()\n"
   ]
  },
  {
   "cell_type": "code",
   "execution_count": 30,
   "metadata": {},
   "outputs": [],
   "source": [
    "from sklearn.cluster import KMeans\n",
    "\n",
    "# 데이터프레임의 행의 수를 가져오는 코드 예시\n",
    "n = len(df)  # df는 데이터프레임 변수명에 맞게 수정해야 합니다.\n",
    "\n",
    "k = 5\n",
    "# KMeans 모델 정의(K-means++로 개선해봄)\n",
    "kmeans = KMeans(n_clusters=k, init='k-means++', random_state=0)\n",
    "\n",
    "\n",
    "# FastText 값에 KMeans 모델 적용\n",
    "kmeans.fit(vectors_clustering)\n",
    "\n",
    "# 군집 결과를 '군집' 컬럼에 저장\n",
    "df['군집'] = kmeans.labels_"
   ]
  },
  {
   "cell_type": "code",
   "execution_count": 31,
   "metadata": {},
   "outputs": [
    {
     "data": {
      "text/plain": [
       "군집\n",
       "2    3000\n",
       "4    2925\n",
       "0    2031\n",
       "1    1624\n",
       "3     849\n",
       "Name: count, dtype: int64"
      ]
     },
     "execution_count": 31,
     "metadata": {},
     "output_type": "execute_result"
    }
   ],
   "source": [
    "df['군집'].value_counts()"
   ]
  },
  {
   "cell_type": "markdown",
   "metadata": {},
   "source": [
    "# ✨✨✨✨✨✨✨✨✨✨✨✨✨✨✨✨✨✨✨✨"
   ]
  },
  {
   "cell_type": "markdown",
   "metadata": {},
   "source": [
    "## 군집 시각화\n",
    "- 전체 중 절반만 샘플링하여 시각화\n",
    "- 전체 데이터 시각화 시 런타임 끊길 수 있음"
   ]
  },
  {
   "cell_type": "code",
   "execution_count": 34,
   "metadata": {},
   "outputs": [],
   "source": [
    "# PCA 모델 생성 및 학습\n",
    "pca = PCA(n_components=2)\n",
    "pca_result = pca.fit_transform(vectors_clustering)\n",
    "\n",
    "# PCA 결과를 데이터프레임에 추가\n",
    "df['PCA1'] = pca_result[:, 0]\n",
    "df['PCA2'] = pca_result[:, 1]\n",
    "\n",
    "# KMeans 모델의 군집 중심점을 PCA 변환\n",
    "centroids_pca = pca.transform(kmeans.cluster_centers_)\n"
   ]
  },
  {
   "cell_type": "code",
   "execution_count": 35,
   "metadata": {},
   "outputs": [
    {
     "name": "stderr",
     "output_type": "stream",
     "text": [
      "C:\\Users\\cmhcm\\AppData\\Roaming\\Python\\Python311\\site-packages\\IPython\\core\\pylabtools.py:152: UserWarning: Glyph 44400 (\\N{HANGUL SYLLABLE GUN}) missing from current font.\n",
      "  fig.canvas.print_figure(bytes_io, **kw)\n",
      "C:\\Users\\cmhcm\\AppData\\Roaming\\Python\\Python311\\site-packages\\IPython\\core\\pylabtools.py:152: UserWarning: Glyph 51665 (\\N{HANGUL SYLLABLE JIB}) missing from current font.\n",
      "  fig.canvas.print_figure(bytes_io, **kw)\n",
      "C:\\Users\\cmhcm\\AppData\\Roaming\\Python\\Python311\\site-packages\\IPython\\core\\pylabtools.py:152: UserWarning: Glyph 51473 (\\N{HANGUL SYLLABLE JUNG}) missing from current font.\n",
      "  fig.canvas.print_figure(bytes_io, **kw)\n",
      "C:\\Users\\cmhcm\\AppData\\Roaming\\Python\\Python311\\site-packages\\IPython\\core\\pylabtools.py:152: UserWarning: Glyph 49900 (\\N{HANGUL SYLLABLE SIM}) missing from current font.\n",
      "  fig.canvas.print_figure(bytes_io, **kw)\n"
     ]
    },
    {
     "data": {
      "image/png": "[encoded data removed]",
      "text/plain": [
       "<Figure size 1000x800 with 1 Axes>"
      ]
     },
     "metadata": {},
     "output_type": "display_data"
    }
   ],
   "source": [
    "# 각 군집의 데이터와 중심을 시각화\n",
    "plt.figure(figsize=(10, 8))\n",
    "for i in range(k):\n",
    "    plt.scatter(df[df['군집'] == i]['PCA1'], df[df['군집'] == i]['PCA2'], label='군집 '+str(i))\n",
    "    plt.scatter(centroids_pca[i, 0], centroids_pca[i, 1], label='중심 '+str(i), marker='x', s=200, c='black')\n",
    "plt.legend()\n",
    "plt.show()"
   ]
  },
  {
   "cell_type": "code",
   "execution_count": 36,
   "metadata": {},
   "outputs": [],
   "source": [
    "# 각 군집의 중심점에서 가장 가까운 100개의 데이터를 찾음\n",
    "nearest_points = []\n",
    "for i in range(k):\n",
    "    # 해당 군집의 데이터를 선택\n",
    "    cluster_points = df[df['군집'] == i][['PCA1', 'PCA2']].values\n",
    "\n",
    "    # NearestNeighbors 모델 생성 및 학습\n",
    "    nn = NearestNeighbors(n_neighbors=100)\n",
    "    nn.fit(cluster_points)\n",
    "\n",
    "    # 군집의 중심점에서 가장 가까운 데이터의 인덱스를 찾음\n",
    "    distances, indices = nn.kneighbors([centroids_pca[i]])\n",
    "\n",
    "    # 가장 가까운 데이터를 선택\n",
    "    nearest_points.append(df.iloc[indices[0]])"
   ]
  },
  {
   "cell_type": "code",
   "execution_count": 37,
   "metadata": {},
   "outputs": [],
   "source": [
    "# 가장 가까운 데이터를 합침\n",
    "nearest_points_df = pd.concat(nearest_points)"
   ]
  },
  {
   "cell_type": "code",
   "execution_count": 39,
   "metadata": {},
   "outputs": [],
   "source": [
    "import collections\n",
    "\n",
    "with open('kmeans_output.txt', 'w', encoding='utf-8') as f:\n",
    "    for i in range(k):\n",
    "        f.write(f\"군집 {i}:\\n\")\n",
    "\n",
    "        for column in ['news_keyword', 'news_feature']:\n",
    "            f.write(f\"{column}에서 가장 많이 등장하는 단어 상위 5개:\\n\")\n",
    "\n",
    "            # 해당 군집에서 해당 컬럼의 데이터를 모두 합칩니다.\n",
    "            text = ','.join(nearest_points_df[nearest_points_df['군집'] == i][column])\n",
    "\n",
    "            # 문자열을 단어로 분리합니다.\n",
    "            words = text.split()\n",
    "\n",
    "            # 가장 많이 등장하는 단어를 찾습니다.\n",
    "            word_counts = collections.Counter(words)\n",
    "\n",
    "            # 가장 빈번하게 등장하는 단어 상위 5개를 출력합니다.\n",
    "            for word, count in word_counts.most_common(5):\n",
    "                f.write(f\"{word} : {count}\\n\")\n",
    "            f.write(\"\\n\")"
   ]
  },
  {
   "cell_type": "markdown",
   "metadata": {},
   "source": [
    "# ✨✨✨✨✨✨✨✨✨✨✨✨✨✨✨✨✨✨✨✨"
   ]
  },
  {
   "cell_type": "markdown",
   "metadata": {},
   "source": [
    "# 코사인 유사도\n",
    "- 다른 유사도 사용해봤지만 코사인 유사도 계산이 가장 좋았습니다."
   ]
  },
  {
   "cell_type": "code",
   "execution_count": 40,
   "metadata": {},
   "outputs": [],
   "source": [
    "from sklearn.metrics.pairwise import cosine_similarity\n",
    "\n",
    "# 'top5'와 'best_similarities' 컬럼을 초기화합니다.\n",
    "df['top5'] = None\n",
    "df['best_similarities'] = None"
   ]
  },
  {
   "cell_type": "code",
   "execution_count": 42,
   "metadata": {},
   "outputs": [],
   "source": [
    "# vectors를 데이터프레임에 추가\n",
    "df['vectors'] = list(vectors)\n",
    "\n",
    "for idx, row in df.iterrows():\n",
    "    # 해당 기사가 속한 군집의 다른 기사들을 선택합니다.\n",
    "    cluster_articles = df[(df['군집'] == row['군집']) & (df.index != idx)]\n",
    "\n",
    "    # 해당 기사와 군집 내 다른 기사들 사이의 코사인 유사도를 계산합니다.\n",
    "    cosine_similarities = cosine_similarity(row['vectors'].reshape(1, -1), cluster_articles['vectors'].tolist())[0]\n",
    "\n",
    "    # 코사인 유사도가 높은 순으로 기사를 정렬합니다.\n",
    "    sorted_indices = cosine_similarities.argsort()[::-1]\n",
    "\n",
    "    # 코사인 유사도가 가장 높은 5개의 기사의 'news_id'를 'top5' 컬럼에 저장합니다.\n",
    "    df.at[idx, 'top5'] = cluster_articles.iloc[sorted_indices[:5]]['news_id'].tolist()\n",
    "\n",
    "    # 코사인 유사도가 가장 높은 스코어를 'best_similarities' 컬럼에 저장합니다.\n",
    "    df.at[idx, 'best_similarities'] = cosine_similarities[sorted_indices[0]]\n"
   ]
  },
  {
   "cell_type": "markdown",
   "metadata": {},
   "source": [
    "# 최종 평균 유사도: 0.9881870490339438"
   ]
  },
  {
   "cell_type": "code",
   "execution_count": 43,
   "metadata": {},
   "outputs": [
    {
     "name": "stdout",
     "output_type": "stream",
     "text": [
      "평균 유사도:  0.9881870490339438\n"
     ]
    }
   ],
   "source": [
    "# 'Best_similarities' 컬럼의 평균 유사도를 계산합니다.\n",
    "average_similarity = df['best_similarities'].mean()\n",
    "\n",
    "print(\"평균 유사도: \", average_similarity)"
   ]
  },
  {
   "cell_type": "code",
   "execution_count": 44,
   "metadata": {},
   "outputs": [
    {
     "data": {
      "text/html": [
       "<div>\n",
       "<style scoped>\n",
       "    .dataframe tbody tr th:only-of-type {\n",
       "        vertical-align: middle;\n",
       "    }\n",
       "\n",
       "    .dataframe tbody tr th {\n",
       "        vertical-align: top;\n",
       "    }\n",
       "\n",
       "    .dataframe thead th {\n",
       "        text-align: right;\n",
       "    }\n",
       "</style>\n",
       "<table border=\"1\" class=\"dataframe\">\n",
       "  <thead>\n",
       "    <tr style=\"text-align: right;\">\n",
       "      <th></th>\n",
       "      <th>news_id</th>\n",
       "      <th>news_date</th>\n",
       "      <th>news_keyword</th>\n",
       "      <th>news_feature</th>\n",
       "      <th>news_url</th>\n",
       "      <th>news_content</th>\n",
       "      <th>img_url</th>\n",
       "      <th>summery_content</th>\n",
       "      <th>NNP</th>\n",
       "      <th>news_feature_cleaned</th>\n",
       "      <th>news_keyword_cleaned</th>\n",
       "      <th>군집</th>\n",
       "      <th>PCA1</th>\n",
       "      <th>PCA2</th>\n",
       "      <th>top5</th>\n",
       "      <th>best_similarities</th>\n",
       "      <th>vectors</th>\n",
       "    </tr>\n",
       "  </thead>\n",
       "  <tbody>\n",
       "    <tr>\n",
       "      <th>0</th>\n",
       "      <td>02100201.20240214165525001</td>\n",
       "      <td>2024-02-14</td>\n",
       "      <td>나혼산 규현 바퀜 주문폭주 소요 배송 순수 원조 진공 용기 신세계 CJ 메가 플랫폼...</td>\n",
       "      <td>바퀜 규현 메이커빌 나혼산 신세계백화점 메가플랫폼 온오프라인 신세계 밀폐용기 보관력...</td>\n",
       "      <td>http://news.moneytoday.co.kr/view/mtview.php?n...</td>\n",
       "      <td>2024-02-14머니투데이 이동오 기자 순수 국내기술로 개발한 원조 진공용기신세계...</td>\n",
       "      <td>https://www.bigkinds.or.kr/resources/images/02...</td>\n",
       "      <td>2024-02 14 머니투데이 동오 기자 순수 국내 기술 개발 원조 진공 용기 신세...</td>\n",
       "      <td>[바퀜, 규현, 메이커빌, 나혼산, 신세계백화점, 신세계, 아마존, 미국, 규현, ...</td>\n",
       "      <td>바퀜 규현 메이커빌 나혼산 신세계백화점 메가플랫폼 온오프라인 신세계 밀폐용기 보관력...</td>\n",
       "      <td>나혼산 규현 바퀜 주문폭주 소요 배송 순수 원조 진공 용기 신세계 CJ 메가 플랫폼...</td>\n",
       "      <td>4</td>\n",
       "      <td>-0.618385</td>\n",
       "      <td>-0.091292</td>\n",
       "      <td>[02100311.20210519171330001, 07100501.20220207...</td>\n",
       "      <td>0.986706</td>\n",
       "      <td>[-0.01240931, -0.0626139, -0.16470762, -0.0226...</td>\n",
       "    </tr>\n",
       "    <tr>\n",
       "      <th>1</th>\n",
       "      <td>02100201.20240214161101001</td>\n",
       "      <td>2024-02-14</td>\n",
       "      <td>렌즈스토어 뷰티 렌즈 편집숍 윙크 울산 대구 뷰티 콘택트렌즈 플랫폼 윙크컴퍼니 확대...</td>\n",
       "      <td>윙크컴퍼니 뷰티렌즈 대구 울산 큐레이션 정문기 중구 남구 렌즈스토어</td>\n",
       "      <td>http://news.moneytoday.co.kr/view/mtview.php?n...</td>\n",
       "      <td>2024-02-14머니투데이 조한송 기자 뷰티 콘택트렌즈 플랫폼 윙크컴퍼니가 고객 ...</td>\n",
       "      <td>https://www.bigkinds.or.kr/resources/images/02...</td>\n",
       "      <td>2024-02 14 머니투데이 기자 뷰티 콘택트렌즈 플랫폼 윙크 컴퍼니 고객 경험 ...</td>\n",
       "      <td>[대구, 울산, 큐레이션, 중구, 남구, 울산, 대구, 울산광역시, 대구광역시, 뷰...</td>\n",
       "      <td>윙크컴퍼니 뷰티렌즈 대구 울산 큐레이션 정문기 중구 남구 렌즈스토어</td>\n",
       "      <td>렌즈스토어 뷰티 렌즈 편집숍 윙크 울산 대구 뷰티 콘택트렌즈 플랫폼 윙크컴퍼니 확대...</td>\n",
       "      <td>4</td>\n",
       "      <td>-0.284783</td>\n",
       "      <td>0.113620</td>\n",
       "      <td>[01500601.20231203184818001, 02100311.20231010...</td>\n",
       "      <td>0.959459</td>\n",
       "      <td>[0.014388972, 0.06500725, -0.20224823, 0.03685...</td>\n",
       "    </tr>\n",
       "    <tr>\n",
       "      <th>2</th>\n",
       "      <td>01500601.20240214160335001</td>\n",
       "      <td>2024-02-14</td>\n",
       "      <td>대표이사 대구불로탁주 최종국 이사 생물 도전장 지역 막걸리 글로벌 막걸리 생물 막걸...</td>\n",
       "      <td>대구 대구불로탁주 불로막걸리 품평회 생막걸리 양조장 대한민국 한국막걸리협회 동구 생...</td>\n",
       "      <td>https://www.imaeil.com/page/view/2024021314385...</td>\n",
       "      <td>2024-02-14막걸리는 살아있는 생물입니다. 지역 전통 막걸리의 맛을 전국을 넘...</td>\n",
       "      <td>https://www.bigkinds.or.kr/resources/images/01...</td>\n",
       "      <td>2024-02 14 막걸리 생물 지역 전통 막걸리 전국 세계 시장 계획 50 이상 ...</td>\n",
       "      <td>[대구, 대구부, 대한민국, 한국, 일본, 대구부, 대구, 불로동, 대구, 안재모,...</td>\n",
       "      <td>대구 대구불로탁주 불로막걸리 품평회 생막걸리 양조장 대한민국 한국막걸리협회 동구 생...</td>\n",
       "      <td>대표이사 대구불로탁주 최종국 이사 생물 도전장 지역 막걸리 글로벌 막걸리 생물 막걸...</td>\n",
       "      <td>2</td>\n",
       "      <td>-0.106130</td>\n",
       "      <td>0.035460</td>\n",
       "      <td>[01100401.20230727030456001, 02100501.20220718...</td>\n",
       "      <td>0.988909</td>\n",
       "      <td>[-0.0012919904, -0.060332727, -0.3052283, 0.01...</td>\n",
       "    </tr>\n",
       "    <tr>\n",
       "      <th>3</th>\n",
       "      <td>07100501.20240214144618001</td>\n",
       "      <td>2024-02-14</td>\n",
       "      <td>신세계 강남점 엄브로 단독 주년 선봬 신세계백화점 영국 스포츠 엄브로 주년 업계 단...</td>\n",
       "      <td>엄브로 강남점 영국 혼네 신세계백화점 주년 굿즈 엄브 일상복 선현우 신세계 선착순 ...</td>\n",
       "      <td>http://www.etnews.com/20240214000260</td>\n",
       "      <td>2024-02-14신세계백화점은 영국 스포츠 브랜드 엄브로 론칭 100주년을 맞아 ...</td>\n",
       "      <td>https://www.bigkinds.or.kr/resources/images/07...</td>\n",
       "      <td>2024-02 14 신세계 백화점 영국 스포츠 브랜드 엄브로 론칭 100 주년 업계...</td>\n",
       "      <td>[엄브로, 영국, 혼네, 신세계백화점, 현우, 신세계, 신세계, 엄브로, 신세계백화...</td>\n",
       "      <td>엄브로 강남점 영국 혼네 신세계백화점 주년 굿즈 엄브 일상복 선현우 신세계 선착순 ...</td>\n",
       "      <td>신세계 강남점 엄브로 단독 주년 선봬 신세계백화점 영국 스포츠 엄브로 주년 업계 단...</td>\n",
       "      <td>0</td>\n",
       "      <td>1.054255</td>\n",
       "      <td>-0.039657</td>\n",
       "      <td>[02100501.20240214103102002, 02100851.20240214...</td>\n",
       "      <td>0.996059</td>\n",
       "      <td>[-0.0258221, -0.123161815, -0.4405544, 0.00962...</td>\n",
       "    </tr>\n",
       "    <tr>\n",
       "      <th>4</th>\n",
       "      <td>02100501.20240214103102002</td>\n",
       "      <td>2024-02-14</td>\n",
       "      <td>신세계 강남점 엄브로 단독 주년 신세계백화점 영국 스포츠 엄브로 주년 업계 단독 1...</td>\n",
       "      <td>영국 엄브로 엄브 신세계백화점 주년 강남점 신세계 축구팀 일상복 오랫동안 선현우 블...</td>\n",
       "      <td>http://www.fnnews.com/news/202402141025245334</td>\n",
       "      <td>2024-02-14파이낸셜뉴스 신세계백화점은 영국 스포츠 브랜드 엄브로의 론칭 10...</td>\n",
       "      <td>https://www.bigkinds.or.kr/resources/images/02...</td>\n",
       "      <td>2024-02 14 파이낸셜뉴스 신세계 백화점 영국 스포츠 브랜드 엄브로 론칭 10...</td>\n",
       "      <td>[영국, 엄브로, 엄브, 신세계백화점, 신세계, 현우, 맨체스터, 신세계, 엄브로,...</td>\n",
       "      <td>영국 엄브로 엄브 신세계백화점 주년 강남점 신세계 축구팀 일상복 오랫동안 선현우 블...</td>\n",
       "      <td>신세계 강남점 엄브로 단독 주년 신세계백화점 영국 스포츠 엄브로 주년 업계 단독 1...</td>\n",
       "      <td>0</td>\n",
       "      <td>0.598197</td>\n",
       "      <td>-0.047057</td>\n",
       "      <td>[07100501.20240214144618001, 01100401.20240111...</td>\n",
       "      <td>0.996059</td>\n",
       "      <td>[-0.021024222, -0.1408611, -0.38499716, 0.0172...</td>\n",
       "    </tr>\n",
       "  </tbody>\n",
       "</table>\n",
       "</div>"
      ],
      "text/plain": [
       "                      news_id   news_date  \\\n",
       "0  02100201.20240214165525001  2024-02-14   \n",
       "1  02100201.20240214161101001  2024-02-14   \n",
       "2  01500601.20240214160335001  2024-02-14   \n",
       "3  07100501.20240214144618001  2024-02-14   \n",
       "4  02100501.20240214103102002  2024-02-14   \n",
       "\n",
       "                                        news_keyword  \\\n",
       "0  나혼산 규현 바퀜 주문폭주 소요 배송 순수 원조 진공 용기 신세계 CJ 메가 플랫폼...   \n",
       "1  렌즈스토어 뷰티 렌즈 편집숍 윙크 울산 대구 뷰티 콘택트렌즈 플랫폼 윙크컴퍼니 확대...   \n",
       "2  대표이사 대구불로탁주 최종국 이사 생물 도전장 지역 막걸리 글로벌 막걸리 생물 막걸...   \n",
       "3  신세계 강남점 엄브로 단독 주년 선봬 신세계백화점 영국 스포츠 엄브로 주년 업계 단...   \n",
       "4  신세계 강남점 엄브로 단독 주년 신세계백화점 영국 스포츠 엄브로 주년 업계 단독 1...   \n",
       "\n",
       "                                        news_feature  \\\n",
       "0  바퀜 규현 메이커빌 나혼산 신세계백화점 메가플랫폼 온오프라인 신세계 밀폐용기 보관력...   \n",
       "1              윙크컴퍼니 뷰티렌즈 대구 울산 큐레이션 정문기 중구 남구 렌즈스토어   \n",
       "2  대구 대구불로탁주 불로막걸리 품평회 생막걸리 양조장 대한민국 한국막걸리협회 동구 생...   \n",
       "3  엄브로 강남점 영국 혼네 신세계백화점 주년 굿즈 엄브 일상복 선현우 신세계 선착순 ...   \n",
       "4  영국 엄브로 엄브 신세계백화점 주년 강남점 신세계 축구팀 일상복 오랫동안 선현우 블...   \n",
       "\n",
       "                                            news_url  \\\n",
       "0  http://news.moneytoday.co.kr/view/mtview.php?n...   \n",
       "1  http://news.moneytoday.co.kr/view/mtview.php?n...   \n",
       "2  https://www.imaeil.com/page/view/2024021314385...   \n",
       "3               http://www.etnews.com/20240214000260   \n",
       "4      http://www.fnnews.com/news/202402141025245334   \n",
       "\n",
       "                                        news_content  \\\n",
       "0  2024-02-14머니투데이 이동오 기자 순수 국내기술로 개발한 원조 진공용기신세계...   \n",
       "1  2024-02-14머니투데이 조한송 기자 뷰티 콘택트렌즈 플랫폼 윙크컴퍼니가 고객 ...   \n",
       "2  2024-02-14막걸리는 살아있는 생물입니다. 지역 전통 막걸리의 맛을 전국을 넘...   \n",
       "3  2024-02-14신세계백화점은 영국 스포츠 브랜드 엄브로 론칭 100주년을 맞아 ...   \n",
       "4  2024-02-14파이낸셜뉴스 신세계백화점은 영국 스포츠 브랜드 엄브로의 론칭 10...   \n",
       "\n",
       "                                             img_url  \\\n",
       "0  https://www.bigkinds.or.kr/resources/images/02...   \n",
       "1  https://www.bigkinds.or.kr/resources/images/02...   \n",
       "2  https://www.bigkinds.or.kr/resources/images/01...   \n",
       "3  https://www.bigkinds.or.kr/resources/images/07...   \n",
       "4  https://www.bigkinds.or.kr/resources/images/02...   \n",
       "\n",
       "                                     summery_content  \\\n",
       "0  2024-02 14 머니투데이 동오 기자 순수 국내 기술 개발 원조 진공 용기 신세...   \n",
       "1  2024-02 14 머니투데이 기자 뷰티 콘택트렌즈 플랫폼 윙크 컴퍼니 고객 경험 ...   \n",
       "2  2024-02 14 막걸리 생물 지역 전통 막걸리 전국 세계 시장 계획 50 이상 ...   \n",
       "3  2024-02 14 신세계 백화점 영국 스포츠 브랜드 엄브로 론칭 100 주년 업계...   \n",
       "4  2024-02 14 파이낸셜뉴스 신세계 백화점 영국 스포츠 브랜드 엄브로 론칭 10...   \n",
       "\n",
       "                                                 NNP  \\\n",
       "0  [바퀜, 규현, 메이커빌, 나혼산, 신세계백화점, 신세계, 아마존, 미국, 규현, ...   \n",
       "1  [대구, 울산, 큐레이션, 중구, 남구, 울산, 대구, 울산광역시, 대구광역시, 뷰...   \n",
       "2  [대구, 대구부, 대한민국, 한국, 일본, 대구부, 대구, 불로동, 대구, 안재모,...   \n",
       "3  [엄브로, 영국, 혼네, 신세계백화점, 현우, 신세계, 신세계, 엄브로, 신세계백화...   \n",
       "4  [영국, 엄브로, 엄브, 신세계백화점, 신세계, 현우, 맨체스터, 신세계, 엄브로,...   \n",
       "\n",
       "                                news_feature_cleaned  \\\n",
       "0  바퀜 규현 메이커빌 나혼산 신세계백화점 메가플랫폼 온오프라인 신세계 밀폐용기 보관력...   \n",
       "1              윙크컴퍼니 뷰티렌즈 대구 울산 큐레이션 정문기 중구 남구 렌즈스토어   \n",
       "2  대구 대구불로탁주 불로막걸리 품평회 생막걸리 양조장 대한민국 한국막걸리협회 동구 생...   \n",
       "3  엄브로 강남점 영국 혼네 신세계백화점 주년 굿즈 엄브 일상복 선현우 신세계 선착순 ...   \n",
       "4  영국 엄브로 엄브 신세계백화점 주년 강남점 신세계 축구팀 일상복 오랫동안 선현우 블...   \n",
       "\n",
       "                                news_keyword_cleaned  군집      PCA1      PCA2  \\\n",
       "0  나혼산 규현 바퀜 주문폭주 소요 배송 순수 원조 진공 용기 신세계 CJ 메가 플랫폼...   4 -0.618385 -0.091292   \n",
       "1  렌즈스토어 뷰티 렌즈 편집숍 윙크 울산 대구 뷰티 콘택트렌즈 플랫폼 윙크컴퍼니 확대...   4 -0.284783  0.113620   \n",
       "2  대표이사 대구불로탁주 최종국 이사 생물 도전장 지역 막걸리 글로벌 막걸리 생물 막걸...   2 -0.106130  0.035460   \n",
       "3  신세계 강남점 엄브로 단독 주년 선봬 신세계백화점 영국 스포츠 엄브로 주년 업계 단...   0  1.054255 -0.039657   \n",
       "4  신세계 강남점 엄브로 단독 주년 신세계백화점 영국 스포츠 엄브로 주년 업계 단독 1...   0  0.598197 -0.047057   \n",
       "\n",
       "                                                top5 best_similarities  \\\n",
       "0  [02100311.20210519171330001, 07100501.20220207...          0.986706   \n",
       "1  [01500601.20231203184818001, 02100311.20231010...          0.959459   \n",
       "2  [01100401.20230727030456001, 02100501.20220718...          0.988909   \n",
       "3  [02100501.20240214103102002, 02100851.20240214...          0.996059   \n",
       "4  [07100501.20240214144618001, 01100401.20240111...          0.996059   \n",
       "\n",
       "                                             vectors  \n",
       "0  [-0.01240931, -0.0626139, -0.16470762, -0.0226...  \n",
       "1  [0.014388972, 0.06500725, -0.20224823, 0.03685...  \n",
       "2  [-0.0012919904, -0.060332727, -0.3052283, 0.01...  \n",
       "3  [-0.0258221, -0.123161815, -0.4405544, 0.00962...  \n",
       "4  [-0.021024222, -0.1408611, -0.38499716, 0.0172...  "
      ]
     },
     "execution_count": 44,
     "metadata": {},
     "output_type": "execute_result"
    }
   ],
   "source": [
    "df.head()"
   ]
  },
  {
   "cell_type": "markdown",
   "metadata": {},
   "source": [
    "# 검증\n",
    "- 지금 1000이라고 입력되어 있는 숫자를 바꾸면 해당 행과 관련된 news_url을 출력하게 됩니다."
   ]
  },
  {
   "cell_type": "code",
   "execution_count": 57,
   "metadata": {},
   "outputs": [
    {
     "name": "stdout",
     "output_type": "stream",
     "text": [
      "기준 뉴스:  하이볼 레비테이트 진공저온 아시아 40회 박상원 인공지능 전산화 스마트팩토리지원사업 향신료 원재료 로마 시애틀 아시아나항공사 달서구 3사 고품질 20가지 제주 전통주 스타트업 극대화 세대들 이지블렌드 대구 탄산수 50만 브랜드명 취항지 액상스틱\n",
      "6588        http://www.fnnews.com/news/202207291531345560\n",
      "6904    http://news.mk.co.kr/newsRead.php?no=552214&ye...\n",
      "8053    http://biz.heraldcorp.com/view.php?ud=20211214...\n",
      "9147    https://www.hankyung.com/economy/article/20210...\n",
      "9398    https://www.inews365.com/news/article.html?no=...\n",
      "Name: news_url, dtype: object\n"
     ]
    }
   ],
   "source": [
    "def print_top5_news_urls(df, idx):\n",
    "    # 주어진 인덱스의 행에서 top5 news_id를 가져옵니다.\n",
    "    top5_news_ids = df.iloc[idx]['top5']\n",
    "\n",
    "    # 해당 news_id를 가진 행들을 선택합니다.\n",
    "    selected_rows = df[df['news_id'].isin(top5_news_ids)]\n",
    "    \n",
    "    # 기준이 되는 행의 'news_feature_cleand'를 출력합니다.\n",
    "    print(\"기준 뉴스: \", df.iloc[idx]['news_feature_cleaned'])\n",
    "    \n",
    "    # 선택된 행들의 news_url을 출력합니다.\n",
    "    print(selected_rows['news_url'])\n",
    "\n",
    "# 예제: 3번째 행의 top5 news_url을 출력합니다.\n",
    "print_top5_news_urls(df, 159)\n"
   ]
  },
  {
   "cell_type": "code",
   "execution_count": null,
   "metadata": {},
   "outputs": [],
   "source": []
  }
 ],
 "metadata": {
  "kernelspec": {
   "display_name": "Python 3",
   "language": "python",
   "name": "python3"
  },
  "language_info": {
   "codemirror_mode": {
    "name": "ipython",
    "version": 3
   },
   "file_extension": ".py",
   "mimetype": "text/x-python",
   "name": "python",
   "nbconvert_exporter": "python",
   "pygments_lexer": "ipython3",
   "version": "3.11.5"
  }
 },
 "nbformat": 4,
 "nbformat_minor": 2
}
