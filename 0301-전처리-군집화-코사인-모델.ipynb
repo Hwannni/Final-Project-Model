{
 "cells": [
  {
   "cell_type": "code",
   "execution_count": 1,
   "metadata": {},
   "outputs": [
    {
     "name": "stdout",
     "output_type": "stream",
     "text": [
      "Requirement already satisfied: matplotlib in c:\\users\\cmhcm\\appdata\\local\\programs\\python\\python311\\lib\\site-packages (3.8.3)Note: you may need to restart the kernel to use updated packages.\n",
      "\n",
      "Requirement already satisfied: contourpy>=1.0.1 in c:\\users\\cmhcm\\appdata\\local\\programs\\python\\python311\\lib\\site-packages (from matplotlib) (1.2.0)\n",
      "Requirement already satisfied: cycler>=0.10 in c:\\users\\cmhcm\\appdata\\local\\programs\\python\\python311\\lib\\site-packages (from matplotlib) (0.12.1)\n",
      "Requirement already satisfied: fonttools>=4.22.0 in c:\\users\\cmhcm\\appdata\\local\\programs\\python\\python311\\lib\\site-packages (from matplotlib) (4.49.0)\n",
      "Requirement already satisfied: kiwisolver>=1.3.1 in c:\\users\\cmhcm\\appdata\\local\\programs\\python\\python311\\lib\\site-packages (from matplotlib) (1.4.5)\n",
      "Requirement already satisfied: numpy<2,>=1.21 in c:\\users\\cmhcm\\appdata\\local\\programs\\python\\python311\\lib\\site-packages (from matplotlib) (1.26.4)\n",
      "Requirement already satisfied: packaging>=20.0 in c:\\users\\cmhcm\\appdata\\roaming\\python\\python311\\site-packages (from matplotlib) (23.2)\n",
      "Requirement already satisfied: pillow>=8 in c:\\users\\cmhcm\\appdata\\local\\programs\\python\\python311\\lib\\site-packages (from matplotlib) (10.2.0)\n",
      "Requirement already satisfied: pyparsing>=2.3.1 in c:\\users\\cmhcm\\appdata\\local\\programs\\python\\python311\\lib\\site-packages (from matplotlib) (3.1.1)\n",
      "Requirement already satisfied: python-dateutil>=2.7 in c:\\users\\cmhcm\\appdata\\roaming\\python\\python311\\site-packages (from matplotlib) (2.8.2)\n",
      "Requirement already satisfied: six>=1.5 in c:\\users\\cmhcm\\appdata\\roaming\\python\\python311\\site-packages (from python-dateutil>=2.7->matplotlib) (1.16.0)\n"
     ]
    },
    {
     "name": "stderr",
     "output_type": "stream",
     "text": [
      "\n",
      "[notice] A new release of pip is available: 23.2.1 -> 24.0\n",
      "[notice] To update, run: python.exe -m pip install --upgrade pip\n"
     ]
    }
   ],
   "source": [
    "pip install matplotlib"
   ]
  },
  {
   "cell_type": "code",
   "execution_count": 2,
   "metadata": {},
   "outputs": [
    {
     "name": "stdout",
     "output_type": "stream",
     "text": [
      "Requirement already satisfied: kiwipiepy in c:\\users\\cmhcm\\appdata\\local\\programs\\python\\python311\\lib\\site-packages (0.16.2)Note: you may need to restart the kernel to use updated packages.\n",
      "\n",
      "Requirement already satisfied: kiwipiepy-model~=0.16 in c:\\users\\cmhcm\\appdata\\local\\programs\\python\\python311\\lib\\site-packages (from kiwipiepy) (0.16.0)\n",
      "Requirement already satisfied: numpy in c:\\users\\cmhcm\\appdata\\local\\programs\\python\\python311\\lib\\site-packages (from kiwipiepy) (1.26.4)\n",
      "Requirement already satisfied: tqdm in c:\\users\\cmhcm\\appdata\\local\\programs\\python\\python311\\lib\\site-packages (from kiwipiepy) (4.66.1)\n",
      "Requirement already satisfied: colorama in c:\\users\\cmhcm\\appdata\\roaming\\python\\python311\\site-packages (from tqdm->kiwipiepy) (0.4.6)\n"
     ]
    },
    {
     "name": "stderr",
     "output_type": "stream",
     "text": [
      "\n",
      "[notice] A new release of pip is available: 23.2.1 -> 24.0\n",
      "[notice] To update, run: python.exe -m pip install --upgrade pip\n"
     ]
    }
   ],
   "source": [
    "pip install kiwipiepy"
   ]
  },
  {
   "cell_type": "code",
   "execution_count": 3,
   "metadata": {},
   "outputs": [
    {
     "name": "stdout",
     "output_type": "stream",
     "text": [
      "Requirement already satisfied: gensim in c:\\users\\cmhcm\\appdata\\local\\programs\\python\\python311\\lib\\site-packages (4.3.2)\n",
      "Requirement already satisfied: numpy>=1.18.5 in c:\\users\\cmhcm\\appdata\\local\\programs\\python\\python311\\lib\\site-packages (from gensim) (1.26.4)\n",
      "Requirement already satisfied: scipy>=1.7.0 in c:\\users\\cmhcm\\appdata\\local\\programs\\python\\python311\\lib\\site-packages (from gensim) (1.12.0)\n",
      "Requirement already satisfied: smart-open>=1.8.1 in c:\\users\\cmhcm\\appdata\\local\\programs\\python\\python311\\lib\\site-packages (from gensim) (6.4.0)\n",
      "Note: you may need to restart the kernel to use updated packages.\n"
     ]
    },
    {
     "name": "stderr",
     "output_type": "stream",
     "text": [
      "\n",
      "[notice] A new release of pip is available: 23.2.1 -> 24.0\n",
      "[notice] To update, run: python.exe -m pip install --upgrade pip\n"
     ]
    }
   ],
   "source": [
    "pip install gensim"
   ]
  },
  {
   "cell_type": "code",
   "execution_count": 4,
   "metadata": {},
   "outputs": [
    {
     "name": "stdout",
     "output_type": "stream",
     "text": [
      "Requirement already satisfied: konlpy in c:\\users\\cmhcm\\appdata\\local\\programs\\python\\python311\\lib\\site-packages (0.6.0)\n",
      "Requirement already satisfied: JPype1>=0.7.0 in c:\\users\\cmhcm\\appdata\\local\\programs\\python\\python311\\lib\\site-packages (from konlpy) (1.5.0)\n",
      "Requirement already satisfied: lxml>=4.1.0 in c:\\users\\cmhcm\\appdata\\local\\programs\\python\\python311\\lib\\site-packages (from konlpy) (5.1.0)\n",
      "Requirement already satisfied: numpy>=1.6 in c:\\users\\cmhcm\\appdata\\local\\programs\\python\\python311\\lib\\site-packages (from konlpy) (1.26.4)\n",
      "Requirement already satisfied: packaging in c:\\users\\cmhcm\\appdata\\roaming\\python\\python311\\site-packages (from JPype1>=0.7.0->konlpy) (23.2)\n",
      "Note: you may need to restart the kernel to use updated packages.\n"
     ]
    },
    {
     "name": "stderr",
     "output_type": "stream",
     "text": [
      "\n",
      "[notice] A new release of pip is available: 23.2.1 -> 24.0\n",
      "[notice] To update, run: python.exe -m pip install --upgrade pip\n"
     ]
    }
   ],
   "source": [
    "pip install konlpy"
   ]
  },
  {
   "cell_type": "code",
   "execution_count": 5,
   "metadata": {},
   "outputs": [
    {
     "name": "stderr",
     "output_type": "stream",
     "text": [
      "C:\\Users\\cmhcm\\AppData\\Local\\Temp\\ipykernel_15848\\1662815981.py:2: DeprecationWarning: \n",
      "Pyarrow will become a required dependency of pandas in the next major release of pandas (pandas 3.0),\n",
      "(to allow more performant data types, such as the Arrow string type, and better interoperability with other libraries)\n",
      "but was not found to be installed on your system.\n",
      "If this would cause problems for you,\n",
      "please provide us feedback at https://github.com/pandas-dev/pandas/issues/54466\n",
      "        \n",
      "  import pandas as pd\n"
     ]
    }
   ],
   "source": [
    "import numpy as np\n",
    "import pandas as pd"
   ]
  },
  {
   "cell_type": "markdown",
   "metadata": {},
   "source": [
    "## 14781개 뉴스 데이터 가져오기\n",
    "- 풀본문 있는 데이터 입니다."
   ]
  },
  {
   "cell_type": "code",
   "execution_count": 6,
   "metadata": {},
   "outputs": [
    {
     "name": "stdout",
     "output_type": "stream",
     "text": [
      "<class 'pandas.core.frame.DataFrame'>\n",
      "RangeIndex: 14761 entries, 0 to 14760\n",
      "Data columns (total 7 columns):\n",
      " #   Column        Non-Null Count  Dtype \n",
      "---  ------        --------------  ----- \n",
      " 0   news_id       14761 non-null  object\n",
      " 1   news_date     14761 non-null  object\n",
      " 2   news_keyword  14761 non-null  object\n",
      " 3   news_feature  14761 non-null  object\n",
      " 4   news_url      14686 non-null  object\n",
      " 5   news_content  14761 non-null  object\n",
      " 6   img_url       13992 non-null  object\n",
      "dtypes: object(7)\n",
      "memory usage: 807.4+ KB\n"
     ]
    }
   ],
   "source": [
    "data_path = \"C:/dev/openAI/result_df_14761.csv\"\n",
    "df = pd.read_csv(data_path, dtype=str)\n",
    "\n",
    "df.info()"
   ]
  },
  {
   "cell_type": "markdown",
   "metadata": {},
   "source": [
    "# 중복제거 로직\n",
    "- 형태소 분석기: Okt\n",
    "- 벡터화: CountVectorizer\n",
    "- 중복 기준: news_content 컬럼 데이터"
   ]
  },
  {
   "cell_type": "code",
   "execution_count": 7,
   "metadata": {},
   "outputs": [],
   "source": [
    "from konlpy.tag import Okt\n",
    "\n",
    "# 형태소 분석기 초기화\n",
    "okt = Okt()"
   ]
  },
  {
   "cell_type": "code",
   "execution_count": 8,
   "metadata": {},
   "outputs": [],
   "source": [
    "from tqdm import tqdm\n",
    "from sklearn.feature_extraction.text import TfidfVectorizer\n",
    "\n",
    "# 전처리 함수 정의\n",
    "def tokenizer(raw, pos=[\"Noun\", \"Alpha\", \"Number\"], stopword=[]):\n",
    "    return [\n",
    "        word for word, tag in okt.pos(\n",
    "            raw,\n",
    "            norm=True,\n",
    "            stem=True\n",
    "            )\n",
    "            if len(word) > 1 and tag in pos and word not in stopword\n",
    "        ]"
   ]
  },
  {
   "cell_type": "markdown",
   "metadata": {},
   "source": [
    "## 전처리 및 벡터화"
   ]
  },
  {
   "cell_type": "code",
   "execution_count": 9,
   "metadata": {},
   "outputs": [],
   "source": [
    "from sklearn.feature_extraction.text import CountVectorizer\n",
    "\n",
    "vectorize = CountVectorizer(\n",
    "    tokenizer=tokenizer,\n",
    "    min_df=2\n",
    ")"
   ]
  },
  {
   "cell_type": "code",
   "execution_count": 10,
   "metadata": {},
   "outputs": [
    {
     "name": "stderr",
     "output_type": "stream",
     "text": [
      "c:\\Users\\cmhcm\\AppData\\Local\\Programs\\Python\\Python311\\Lib\\site-packages\\sklearn\\feature_extraction\\text.py:525: UserWarning: The parameter 'token_pattern' will not be used since 'tokenizer' is not None'\n",
      "  warnings.warn(\n"
     ]
    }
   ],
   "source": [
    "# 기사 본문에 나오는 단어의 빈도 계산\n",
    "X = vectorize.fit_transform(df['news_content'])"
   ]
  },
  {
   "cell_type": "code",
   "execution_count": null,
   "metadata": {},
   "outputs": [],
   "source": [
    "from sklearn.metrics.pairwise import cosine_similarity\n",
    "\n",
    "# 코사인 유사도 계산\n",
    "cos_sim = cosine_similarity(X)\n",
    "\n",
    "# 코사인 유사도가 0.9 이상인 경우를 중복으로 판단\n",
    "dup_idx = np.where(cos_sim > 0.9)"
   ]
  },
  {
   "cell_type": "code",
   "execution_count": null,
   "metadata": {},
   "outputs": [],
   "source": [
    "# 중복 기사 인덱스와 제목 출력 및 중복 기사 제거\n",
    "to_drop = []\n",
    "\n",
    "for i in range(len(dup_idx[0])):\n",
    "    if dup_idx[0][i] != dup_idx[1][i]:  # 자기 자신과의 유사도는 제외\n",
    "\n",
    "        # 먼저 게시된 기사를 남기고 싶으므로 인덱스가 더 작은 행을 제거\n",
    "        to_remove = min(dup_idx[0][i], dup_idx[1][i])\n",
    "        # print(\"삭제되는 기사 제목: \", df.iloc[to_remove]['news_id'])\n",
    "        # print()\n",
    "\n",
    "        to_drop.append(to_remove)\n",
    "\n",
    "# 중복 기사 제거\n",
    "df = df.drop(to_drop)\n",
    "# 인덱스 재설정\n",
    "df = df.reset_index(drop=True)"
   ]
  },
  {
   "cell_type": "markdown",
   "metadata": {},
   "source": [
    "### 4,353개의 중복기사 제거"
   ]
  },
  {
   "cell_type": "code",
   "execution_count": null,
   "metadata": {},
   "outputs": [
    {
     "data": {
      "text/plain": [
       "(10429, 7)"
      ]
     },
     "execution_count": 13,
     "metadata": {},
     "output_type": "execute_result"
    }
   ],
   "source": [
    "# 중복제거 확인\n",
    "df.shape"
   ]
  },
  {
   "cell_type": "markdown",
   "metadata": {},
   "source": [
    "# 전처리"
   ]
  },
  {
   "cell_type": "markdown",
   "metadata": {},
   "source": [
    "### news_url: null일 경우 삭제"
   ]
  },
  {
   "cell_type": "code",
   "execution_count": null,
   "metadata": {},
   "outputs": [],
   "source": [
    "# url컬럼이 null 값을 가진 행 삭제\n",
    "# df = df.dropna(subset=['news_url'])"
   ]
  },
  {
   "cell_type": "markdown",
   "metadata": {},
   "source": [
    "### news_content: 명사/알파벳/숫자 추출\n",
    "- tokenizer 함수는 중복제거 단계에서 정의함\n",
    "- news_content 컬럼은 OpneAI에서 사용하기 때문에 삭제하면 안됨"
   ]
  },
  {
   "cell_type": "code",
   "execution_count": null,
   "metadata": {},
   "outputs": [],
   "source": [
    "preprocessed_text = df['news_content'].apply(lambda x: ' '.join(tokenizer(x)))\n",
    "df['summery_content'] = preprocessed_text"
   ]
  },
  {
   "cell_type": "markdown",
   "metadata": {},
   "source": [
    "### 불용어 정의 및 제거"
   ]
  },
  {
   "cell_type": "code",
   "execution_count": null,
   "metadata": {},
   "outputs": [],
   "source": [
    "# 먼저 두 컬럼을 각각 리스트로 변환합니다.\n",
    "news_feature_list = df['news_feature'].str.split(',').tolist()\n",
    "news_keyword_list = df['news_keyword'].str.split(',').tolist()\n",
    "\n",
    "# 두 리스트를 합칩니다.\n",
    "total_list = news_feature_list + news_keyword_list\n",
    "\n",
    "# 리스트의 리스트를 하나의 리스트로 변환합니다.\n",
    "flat_list = [item for sublist in total_list for item in sublist]\n",
    "\n",
    "# 리스트를 문자열로 변환하고, 각 단어 사이에 ','를 넣습니다.\n",
    "wordbook = ','.join(flat_list)"
   ]
  },
  {
   "cell_type": "code",
   "execution_count": null,
   "metadata": {},
   "outputs": [
    {
     "name": "stdout",
     "output_type": "stream",
     "text": [
      "브랜드 :  23783\n",
      "팝업스토어 :  21292\n",
      "팝업 :  19880\n",
      "스토어 :  16792\n",
      "서울 :  13103\n",
      "진행 :  12552\n",
      "운영 :  11294\n",
      "제품 :  11110\n",
      "판매 :  9903\n",
      "상품 :  9896\n",
      "매장 :  9815\n",
      "고객 :  8898\n",
      "행사 :  8842\n",
      "공간 :  8391\n",
      "제공 :  7300\n",
      "대표 :  7169\n",
      "오픈 :  6657\n",
      "인기 :  6652\n",
      "구매 :  6650\n",
      "시장 :  6274\n"
     ]
    }
   ],
   "source": [
    "import collections\n",
    "\n",
    "# 문자열을 다시 리스트로 변환합니다.\n",
    "wordbook_list = wordbook.split(',')\n",
    "\n",
    "# 가장 많이 등장하는 단어를 찾습니다.\n",
    "word_counts = collections.Counter(wordbook_list)\n",
    "\n",
    "# 가장 빈번하게 등장하는 단어 상위 20개를 출력합니다.\n",
    "for word, count in word_counts.most_common(20):\n",
    "    print(word, \": \", count)\n"
   ]
  },
  {
   "cell_type": "code",
   "execution_count": null,
   "metadata": {},
   "outputs": [],
   "source": [
    "stopwords = ['브랜드', '팝업스토어', '팝업', '스토어', '서울', '진행', '운영', '제품', '판매', '상품', \n",
    "            '매장', '고객', '행사', '공간', '제공', '대표', '오픈', '인기', '구매', '시장', '오프라인', \n",
    "            '온라인', '매출', '관계자', '소비자', '한국', '출시', '백화점', '론칭']\n"
   ]
  },
  {
   "cell_type": "code",
   "execution_count": null,
   "metadata": {},
   "outputs": [],
   "source": [
    "def remove_stopwords(text, stopwords):\n",
    "    words = text.split(',')\n",
    "    filtered_words = [word for word in words if word not in stopwords]\n",
    "    return ','.join(filtered_words)\n",
    "\n",
    "df['news_feature'] = df['news_feature'].apply(lambda x: remove_stopwords(x, stopwords))\n",
    "df['news_keyword'] = df['news_keyword'].apply(lambda x: remove_stopwords(x, stopwords))\n"
   ]
  },
  {
   "cell_type": "markdown",
   "metadata": {},
   "source": [
    "### news_feature와 news_keyword: 고유명사 추출 후 제거\n",
    "- 추출한 고유명사는 'NNP' 컬럼에 저장"
   ]
  },
  {
   "cell_type": "code",
   "execution_count": null,
   "metadata": {},
   "outputs": [],
   "source": [
    "# \"kiwi\"를 사용해서 형태소 분석\n",
    "from itertools import product\n",
    "from kiwipiepy import Kiwi\n",
    "kiwi = Kiwi()"
   ]
  },
  {
   "cell_type": "code",
   "execution_count": null,
   "metadata": {},
   "outputs": [],
   "source": [
    "# 형태소 분석 및 고유명사 추출 함수 정의\n",
    "def analyze_and_extract_NNP(text):\n",
    "    result = kiwi.analyze(text)\n",
    "    NNP_words = [word for word, tag, _, _ in result[0][0] if tag == 'NNP']\n",
    "    return NNP_words"
   ]
  },
  {
   "cell_type": "code",
   "execution_count": null,
   "metadata": {},
   "outputs": [],
   "source": [
    "# 쉼표 제거 후 형태소 분석 및 저장\n",
    "df['news_feature'] = df['news_feature'].str.replace(',', ' ')  # 쉼표 제거\n",
    "df['news_keyword'] = df['news_keyword'].str.replace(',', ' ')  # 쉼표 제거"
   ]
  },
  {
   "cell_type": "code",
   "execution_count": null,
   "metadata": {},
   "outputs": [],
   "source": [
    "# news_feature와 news_keyword 열에 대해 고유명사 추출\n",
    "df['NNP'] = df['news_feature'].apply(analyze_and_extract_NNP)\n",
    "df['NNP'] = df['NNP'] + df['news_keyword'].apply(analyze_and_extract_NNP)"
   ]
  },
  {
   "cell_type": "code",
   "execution_count": null,
   "metadata": {},
   "outputs": [],
   "source": [
    "# 'news_feature' 열 데이터와 'NNP' 열 데이터 비교하여 겹칠 경우 삭제\n",
    "for index, row in df.iterrows():\n",
    "    nnp_list = row['NNP']\n",
    "    news_feature = row['news_feature']\n",
    "    cleaned_news_feature = ' '.join(word for word in news_feature.split() if word not in nnp_list)\n",
    "    df.at[index, 'news_feature_cleaned'] = cleaned_news_feature"
   ]
  },
  {
   "cell_type": "code",
   "execution_count": null,
   "metadata": {},
   "outputs": [],
   "source": [
    "# 'news_keyword' 열 데이터와 'NNP' 열 데이터 비교하여 겹칠 경우 삭제\n",
    "for index, row in df.iterrows():\n",
    "    nnp_list = row['NNP']\n",
    "    news_keyword = row['news_keyword']\n",
    "    cleaned_news_keyword = ' '.join(word for word in news_keyword.split() if word not in nnp_list)\n",
    "    df.at[index, 'news_keyword_cleaned'] = cleaned_news_keyword"
   ]
  },
  {
   "cell_type": "markdown",
   "metadata": {},
   "source": [
    "# 군집화: K-means\n",
    "### FastText 이용하여 벡터화"
   ]
  },
  {
   "cell_type": "code",
   "execution_count": null,
   "metadata": {},
   "outputs": [],
   "source": [
    "from gensim.models.fasttext import load_facebook_model\n",
    "\n",
    "# FastText 모델 로드\n",
    "ko_model = load_facebook_model(\"C:/Users/cmhcm/OneDrive/바탕 화면/cc.ko.300.bin\")"
   ]
  },
  {
   "cell_type": "code",
   "execution_count": null,
   "metadata": {},
   "outputs": [],
   "source": [
    "# 데이터 프레임에서 텍스트 데이터를 가져옵니다.\n",
    "feature_word = df['news_feature_cleaned'].values\n",
    "keywords_word = df['news_keyword_cleaned'].values\n",
    "content_word = df['summery_content'].values\n",
    "\n",
    "\n",
    "# 세 단어장을 결합합니다.\n",
    "combined_data = np.concatenate((feature_word, keywords_word, content_word))"
   ]
  },
  {
   "cell_type": "code",
   "execution_count": null,
   "metadata": {},
   "outputs": [
    {
     "data": {
      "text/plain": [
       "(1046756, 2560017)"
      ]
     },
     "execution_count": 30,
     "metadata": {},
     "output_type": "execute_result"
    }
   ],
   "source": [
    "# 텍스트를 단어 리스트로 변환하되, 중복되는 단어는 제거합니다.\n",
    "word_lists = [list(set(text.split())) for text in combined_data]\n",
    "\n",
    "# FastText 모델에 데이터를 추가 학습시킵니다.\n",
    "ko_model.build_vocab(word_lists, update=True)\n",
    "ko_model.train(word_lists, total_examples=len(word_lists), epochs=ko_model.epochs)"
   ]
  },
  {
   "cell_type": "code",
   "execution_count": null,
   "metadata": {},
   "outputs": [],
   "source": [
    "# FastText 벡터화를 수행합니다.\n",
    "vectors = []\n",
    "for text in feature_word:\n",
    "    words = [word for word in text.split() if word in ko_model.wv]\n",
    "    if words:\n",
    "        vector = np.mean([ko_model.wv[word] for word in words], axis=0)\n",
    "    else:\n",
    "        vector = np.zeros(ko_model.vector_size)  # 모델의 벡터 크기에 맞는 제로 벡터를 사용\n",
    "    vectors.append(vector)\n",
    "\n",
    "vectors = np.array(vectors)  # 벡터 리스트를 numpy array로 변환\n",
    "vectors_clustering = vectors.copy()\n"
   ]
  },
  {
   "cell_type": "code",
   "execution_count": null,
   "metadata": {},
   "outputs": [],
   "source": [
    "from sklearn.cluster import KMeans\n",
    "\n",
    "# 데이터프레임의 행의 수를 가져오는 코드 예시\n",
    "n = len(df)  # df는 데이터프레임 변수명에 맞게 수정해야 합니다.\n",
    "\n",
    "k = 5\n",
    "# KMeans 모델 정의\n",
    "kmeans = KMeans(n_clusters=k, random_state=0)\n",
    "\n",
    "# FastText 값에 KMeans 모델 적용\n",
    "kmeans.fit(vectors_clustering)\n",
    "\n",
    "# 군집 결과를 '군집' 컬럼에 저장\n",
    "df['군집'] = kmeans.labels_"
   ]
  },
  {
   "cell_type": "code",
   "execution_count": null,
   "metadata": {},
   "outputs": [
    {
     "data": {
      "text/plain": [
       "군집\n",
       "3    3017\n",
       "0    3005\n",
       "1    1975\n",
       "2    1566\n",
       "4     866\n",
       "Name: count, dtype: int64"
      ]
     },
     "execution_count": 34,
     "metadata": {},
     "output_type": "execute_result"
    }
   ],
   "source": [
    "df['군집'].value_counts()"
   ]
  },
  {
   "cell_type": "markdown",
   "metadata": {},
   "source": [
    "## 군집 시각화\n",
    "- 전체 중 절반만 샘플링하여 시각화\n",
    "- 전체 데이터 시각화 시 런타임 끊길 수 있음"
   ]
  },
  {
   "cell_type": "code",
   "execution_count": null,
   "metadata": {},
   "outputs": [
    {
     "data": {
      "image/png": "[encoded data removed]",
      "text/plain": [
       "<Figure size 1000x800 with 1 Axes>"
      ]
     },
     "metadata": {},
     "output_type": "display_data"
    }
   ],
   "source": [
    "from sklearn.decomposition import PCA\n",
    "import matplotlib.pyplot as plt\n",
    "import random\n",
    "\n",
    "# vectors가 리스트가 아니라면 리스트로 변환\n",
    "if not isinstance(vectors_clustering, list):\n",
    "    vectors_clustering = list(vectors_clustering)\n",
    "\n",
    "\n",
    "# 벡터의 절반을 샘플링\n",
    "sample_vectors_clustering = random.sample(vectors_clustering, len(vectors_clustering) // 2)\n",
    "\n",
    "# PCA 모델 생성 및 학습\n",
    "pca = PCA(n_components=2)\n",
    "pca_result = pca.fit_transform(vectors_clustering)\n",
    "\n",
    "# PCA 결과를 데이터프레임에 추가\n",
    "df['PCA1'] = pca_result[:, 0]\n",
    "df['PCA2'] = pca_result[:, 1]\n",
    "\n",
    "# 각 군집을 다른 색상으로 표시하여 시각화\n",
    "plt.figure(figsize=(10, 8))\n",
    "for i in range(k):\n",
    "    plt.scatter(df[df['군집'] == i]['PCA1'], df[df['군집'] == i]['PCA2'], label=i)\n",
    "plt.legend()\n",
    "plt.show()"
   ]
  },
  {
   "cell_type": "markdown",
   "metadata": {},
   "source": [
    "### 군집 중심 분석"
   ]
  },
  {
   "cell_type": "code",
   "execution_count": null,
   "metadata": {},
   "outputs": [
    {
     "name": "stderr",
     "output_type": "stream",
     "text": [
      "C:\\Users\\cmhcm\\AppData\\Roaming\\Python\\Python311\\site-packages\\IPython\\core\\pylabtools.py:152: UserWarning: Glyph 44400 (\\N{HANGUL SYLLABLE GUN}) missing from current font.\n",
      "  fig.canvas.print_figure(bytes_io, **kw)\n",
      "C:\\Users\\cmhcm\\AppData\\Roaming\\Python\\Python311\\site-packages\\IPython\\core\\pylabtools.py:152: UserWarning: Glyph 51665 (\\N{HANGUL SYLLABLE JIB}) missing from current font.\n",
      "  fig.canvas.print_figure(bytes_io, **kw)\n",
      "C:\\Users\\cmhcm\\AppData\\Roaming\\Python\\Python311\\site-packages\\IPython\\core\\pylabtools.py:152: UserWarning: Glyph 51473 (\\N{HANGUL SYLLABLE JUNG}) missing from current font.\n",
      "  fig.canvas.print_figure(bytes_io, **kw)\n",
      "C:\\Users\\cmhcm\\AppData\\Roaming\\Python\\Python311\\site-packages\\IPython\\core\\pylabtools.py:152: UserWarning: Glyph 49900 (\\N{HANGUL SYLLABLE SIM}) missing from current font.\n",
      "  fig.canvas.print_figure(bytes_io, **kw)\n"
     ]
    },
    {
     "data": {
      "image/png": "[encoded data removed]",
      "text/plain": [
       "<Figure size 1000x800 with 1 Axes>"
      ]
     },
     "metadata": {},
     "output_type": "display_data"
    }
   ],
   "source": [
    "# 각 군집의 중심을 계산\n",
    "centroids = df.groupby('군집')[['PCA1', 'PCA2']].mean()\n",
    "\n",
    "# 시각화\n",
    "plt.figure(figsize=(10, 8))\n",
    "for i in range(k):\n",
    "    plt.scatter(df[df['군집'] == i]['PCA1'], df[df['군집'] == i]['PCA2'], label='군집 '+str(i))\n",
    "    plt.scatter(centroids.loc[i, 'PCA1'], centroids.loc[i, 'PCA2'], label='중심 '+str(i), marker='x', s=200, c='black')  \n",
    "plt.legend()\n",
    "plt.show()\n"
   ]
  },
  {
   "cell_type": "code",
   "execution_count": null,
   "metadata": {},
   "outputs": [],
   "source": [
    "# 각 데이터의 군집 중심점까지의 거리를 계산\n",
    "df['distance'] = df.apply(lambda row: np.linalg.norm(row[['PCA1', 'PCA2']] - centroids.loc[row['군집']]), axis=1)\n",
    "\n",
    "# 각 군집에서 거리가 가장 짧은 데이터를 찾음\n",
    "closest_points = df.loc[df.groupby('군집')['distance'].idxmin()]\n"
   ]
  },
  {
   "cell_type": "code",
   "execution_count": null,
   "metadata": {},
   "outputs": [],
   "source": [
    "from scipy.spatial import distance\n",
    "\n",
    "# 각 군집의 중심점에서 가장 가까운 200개의 데이터를 저장할 DataFrame을 준비합니다.\n",
    "closest_points_to_centroids = pd.DataFrame()\n",
    "\n",
    "for i in range(k):\n",
    "    # 각 군집에 대해\n",
    "    cluster_points = df[df['군집'] == i][['PCA1', 'PCA2']]\n",
    "    centroid = centroids.loc[i]\n",
    "\n",
    "    # 각 데이터 포인트에서 군집의 중심까지의 거리를 계산합니다.\n",
    "    distances = cluster_points.apply(lambda x: distance.euclidean(x, centroid), axis=1)\n",
    "\n",
    "    # 거리가 가장 작은 200개의 데이터를 선택합니다.\n",
    "    closest_points = distances.nsmallest(200).index\n",
    "\n",
    "    # 선택한 데이터를 DataFrame에 추가합니다.\n",
    "    closest_points_to_centroids = pd.concat([closest_points_to_centroids, df.loc[closest_points]])\n"
   ]
  },
  {
   "cell_type": "code",
   "execution_count": null,
   "metadata": {},
   "outputs": [],
   "source": [
    "import collections\n",
    "\n",
    "with open('output.txt', 'w', encoding='utf-8') as f:\n",
    "    for i in range(k):\n",
    "        f.write(f\"군집 {i}:\\n\")\n",
    "\n",
    "        for column in ['news_keyword', 'news_feature']:\n",
    "            f.write(f\"{column}에서 가장 많이 등장하는 단어 상위 5개:\\n\")\n",
    "\n",
    "            # 해당 군집에서 해당 컬럼의 데이터를 모두 합칩니다.\n",
    "            text = ','.join(closest_points_to_centroids[closest_points_to_centroids['군집'] == i][column])\n",
    "\n",
    "            # 문자열을 단어로 분리합니다.\n",
    "            words = text.split()\n",
    "\n",
    "            # 가장 많이 등장하는 단어를 찾습니다.\n",
    "            word_counts = collections.Counter(words)\n",
    "\n",
    "            # 가장 빈번하게 등장하는 단어 상위 5개를 출력합니다.\n",
    "            for word, count in word_counts.most_common(5):\n",
    "                f.write(f\"{word} : {count}\\n\")\n",
    "            f.write(\"\\n\")\n"
   ]
  },
  {
   "cell_type": "markdown",
   "metadata": {},
   "source": []
  },
  {
   "cell_type": "markdown",
   "metadata": {},
   "source": [
    "# 코사인 유사도\n",
    "- 다른 유사도 사용해봤지만 코사인 유사도 계산이 가장 좋았습니다."
   ]
  },
  {
   "cell_type": "code",
   "execution_count": null,
   "metadata": {},
   "outputs": [
    {
     "name": "stdout",
     "output_type": "stream",
     "text": [
      "[[1.         0.40928894 0.90585878 ... 0.90963995 0.90236216 0.86773856]\n",
      " [0.40928894 1.         0.38161712 ... 0.33036138 0.35914079 0.32635754]\n",
      " [0.90585878 0.38161712 1.         ... 0.95301716 0.94641283 0.89602721]\n",
      " ...\n",
      " [0.90963995 0.33036138 0.95301716 ... 1.         0.95757742 0.9132339 ]\n",
      " [0.90236216 0.35914079 0.94641283 ... 0.95757742 1.         0.91061247]\n",
      " [0.86773856 0.32635754 0.89602721 ... 0.9132339  0.91061247 1.        ]]\n"
     ]
    }
   ],
   "source": [
    "# 벡터들 사이의 코사인 유사도를 계산합니다.\n",
    "cosine_similarities = cosine_similarity(vectors)\n",
    "\n",
    "# 코사인 유사도를 출력합니다.\n",
    "print(cosine_similarities)"
   ]
  },
  {
   "cell_type": "code",
   "execution_count": null,
   "metadata": {},
   "outputs": [],
   "source": [
    "# 각 행마다 유사도가 높은 상위 6개의 인덱스를 추출합니다.\n",
    "top_6_indices = np.argsort(-cosine_similarities, axis=1)[:, :6]\n",
    "\n",
    "# 첫 번째 항목 (즉, 자기 자신)을 제외합니다.\n",
    "top_5_indices = top_6_indices[:, 1:]\n",
    "\n",
    "# 해당 인덱스를 사용하여 news_id를 찾습니다.\n",
    "top_5_news_IDs = df.loc[top_5_indices.flatten(), 'news_id'].values.reshape(-1, 5)\n",
    "\n",
    "# 'Top_5'라는 새로운 컬럼에 news_ID를 저장합니다.\n",
    "df['Top_5'] = top_5_news_IDs.tolist()\n"
   ]
  },
  {
   "cell_type": "code",
   "execution_count": null,
   "metadata": {},
   "outputs": [],
   "source": [
    "# 자기 자신과의 유사도를 제외하고 각 행에서 가장 높은 유사도를 찾습니다.\n",
    "np.fill_diagonal(cosine_similarities, -1)\n",
    "best_similarities = np.max(cosine_similarities, axis=1)\n",
    "\n",
    "# 'Best_similarities'라는 새로운 컬럼에 최대 유사도를 저장합니다.\n",
    "df['best_similarities'] = best_similarities"
   ]
  },
  {
   "cell_type": "code",
   "execution_count": null,
   "metadata": {},
   "outputs": [
    {
     "data": {
      "text/html": [
       "<div>\n",
       "<style scoped>\n",
       "    .dataframe tbody tr th:only-of-type {\n",
       "        vertical-align: middle;\n",
       "    }\n",
       "\n",
       "    .dataframe tbody tr th {\n",
       "        vertical-align: top;\n",
       "    }\n",
       "\n",
       "    .dataframe thead th {\n",
       "        text-align: right;\n",
       "    }\n",
       "</style>\n",
       "<table border=\"1\" class=\"dataframe\">\n",
       "  <thead>\n",
       "    <tr style=\"text-align: right;\">\n",
       "      <th></th>\n",
       "      <th>news_id</th>\n",
       "      <th>news_date</th>\n",
       "      <th>news_keyword</th>\n",
       "      <th>news_feature</th>\n",
       "      <th>news_url</th>\n",
       "      <th>news_content</th>\n",
       "      <th>img_url</th>\n",
       "      <th>summery_content</th>\n",
       "      <th>NNP</th>\n",
       "      <th>news_feature_cleaned</th>\n",
       "      <th>news_keyword_cleaned</th>\n",
       "      <th>군집</th>\n",
       "      <th>PCA1</th>\n",
       "      <th>PCA2</th>\n",
       "      <th>distance</th>\n",
       "      <th>Top_5</th>\n",
       "      <th>best_similarities</th>\n",
       "    </tr>\n",
       "  </thead>\n",
       "  <tbody>\n",
       "    <tr>\n",
       "      <th>0</th>\n",
       "      <td>02100201.20240214165525001</td>\n",
       "      <td>2024-02-14</td>\n",
       "      <td>나혼산 규현 바퀜 주문폭주 소요 배송 순수 원조 진공 용기 신세계 CJ 메가 플랫폼...</td>\n",
       "      <td>바퀜 규현 메이커빌 나혼산 신세계백화점 메가플랫폼 온오프라인 신세계 밀폐용기 보관력...</td>\n",
       "      <td>http://news.moneytoday.co.kr/view/mtview.php?n...</td>\n",
       "      <td>2024-02-14머니투데이 이동오 기자 순수 국내기술로 개발한 원조 진공용기신세계...</td>\n",
       "      <td>https://www.bigkinds.or.kr/resources/images/02...</td>\n",
       "      <td>2024-02 14 머니투데이 동오 기자 순수 국내 기술 개발 원조 진공 용기 신세...</td>\n",
       "      <td>[바퀜, 규현, 메이커빌, 나혼산, 신세계백화점, 신세계, 아마존, 미국, 규현, ...</td>\n",
       "      <td>메가플랫폼 온오프라인 밀폐용기 보관력 프코크 cj</td>\n",
       "      <td>주문폭주 소요 배송 순수 원조 진공 용기 CJ 메가 플랫폼 협업 시너지 MBC 혼자...</td>\n",
       "      <td>2</td>\n",
       "      <td>-1.177593</td>\n",
       "      <td>-0.106924</td>\n",
       "      <td>0.166228</td>\n",
       "      <td>[02100801.20230420084402002, 02100201.20230612...</td>\n",
       "      <td>0.949225</td>\n",
       "    </tr>\n",
       "    <tr>\n",
       "      <th>1</th>\n",
       "      <td>02100201.20240214161101001</td>\n",
       "      <td>2024-02-14</td>\n",
       "      <td>렌즈스토어 뷰티 렌즈 편집숍 윙크 울산 대구 뷰티 콘택트렌즈 플랫폼 윙크컴퍼니 확대...</td>\n",
       "      <td>윙크컴퍼니 뷰티렌즈 대구 울산 큐레이션 정문기 중구 남구 렌즈스토어</td>\n",
       "      <td>http://news.moneytoday.co.kr/view/mtview.php?n...</td>\n",
       "      <td>2024-02-14머니투데이 조한송 기자 뷰티 콘택트렌즈 플랫폼 윙크컴퍼니가 고객 ...</td>\n",
       "      <td>https://www.bigkinds.or.kr/resources/images/02...</td>\n",
       "      <td>2024-02 14 머니투데이 기자 뷰티 콘택트렌즈 플랫폼 윙크 컴퍼니 고객 경험 ...</td>\n",
       "      <td>[대구, 울산, 큐레이션, 중구, 남구, 울산, 대구, 울산광역시, 대구광역시, 뷰...</td>\n",
       "      <td>윙크컴퍼니 뷰티렌즈 정문기 렌즈스토어</td>\n",
       "      <td>렌즈스토어 렌즈 편집숍 윙크 콘택트렌즈 플랫폼 윙크컴퍼니 확대 경험 전략 채널 강화...</td>\n",
       "      <td>2</td>\n",
       "      <td>-2.274102</td>\n",
       "      <td>0.171205</td>\n",
       "      <td>1.116017</td>\n",
       "      <td>[02100801.20230920081710001, 02100601.20200206...</td>\n",
       "      <td>0.604813</td>\n",
       "    </tr>\n",
       "    <tr>\n",
       "      <th>2</th>\n",
       "      <td>01500601.20240214160335001</td>\n",
       "      <td>2024-02-14</td>\n",
       "      <td>대표이사 대구불로탁주 최종국 이사 생물 도전장 지역 막걸리 글로벌 막걸리 생물 막걸...</td>\n",
       "      <td>대구 대구불로탁주 불로막걸리 품평회 생막걸리 양조장 대한민국 한국막걸리협회 동구 생...</td>\n",
       "      <td>https://www.imaeil.com/page/view/2024021314385...</td>\n",
       "      <td>2024-02-14막걸리는 살아있는 생물입니다. 지역 전통 막걸리의 맛을 전국을 넘...</td>\n",
       "      <td>https://www.bigkinds.or.kr/resources/images/01...</td>\n",
       "      <td>2024-02 14 막걸리 생물 지역 전통 막걸리 전국 세계 시장 계획 50 이상 ...</td>\n",
       "      <td>[대구, 대구부, 대한민국, 한국, 일본, 대구부, 대구, 불로동, 대구, 안재모,...</td>\n",
       "      <td>대구불로탁주 불로막걸리 품평회 생막걸리 양조장 한국막걸리협회 생효모 경쟁력</td>\n",
       "      <td>대표이사 대구불로탁주 최종국 이사 생물 도전장 지역 막걸리 글로벌 막걸리 생물 막걸...</td>\n",
       "      <td>2</td>\n",
       "      <td>-0.954317</td>\n",
       "      <td>0.015421</td>\n",
       "      <td>0.213881</td>\n",
       "      <td>[01400401.20200818140025001, 02100601.20220527...</td>\n",
       "      <td>0.979166</td>\n",
       "    </tr>\n",
       "    <tr>\n",
       "      <th>3</th>\n",
       "      <td>07100501.20240214144618001</td>\n",
       "      <td>2024-02-14</td>\n",
       "      <td>신세계 강남점 엄브로 단독 주년 선봬 신세계백화점 영국 스포츠 엄브로 주년 업계 단...</td>\n",
       "      <td>엄브로 강남점 영국 혼네 신세계백화점 주년 굿즈 엄브 일상복 선현우 신세계 선착순 ...</td>\n",
       "      <td>http://www.etnews.com/20240214000260</td>\n",
       "      <td>2024-02-14신세계백화점은 영국 스포츠 브랜드 엄브로 론칭 100주년을 맞아 ...</td>\n",
       "      <td>https://www.bigkinds.or.kr/resources/images/07...</td>\n",
       "      <td>2024-02 14 신세계 백화점 영국 스포츠 브랜드 엄브로 론칭 100 주년 업계...</td>\n",
       "      <td>[엄브로, 영국, 혼네, 신세계백화점, 현우, 신세계, 신세계, 엄브로, 신세계백화...</td>\n",
       "      <td>강남점 주년 굿즈 일상복 선현우 선착순 런드리 20만 포토존 패션담당 스테이지 선봬</td>\n",
       "      <td>강남점 단독 주년 선봬 스포츠 주년 업계 단독 강남점 14일 시작 유행 MZ고객 스...</td>\n",
       "      <td>1</td>\n",
       "      <td>1.026644</td>\n",
       "      <td>-0.073347</td>\n",
       "      <td>0.253204</td>\n",
       "      <td>[02100501.20240214103102002, 01600301.20231003...</td>\n",
       "      <td>0.991756</td>\n",
       "    </tr>\n",
       "    <tr>\n",
       "      <th>4</th>\n",
       "      <td>02100501.20240214103102002</td>\n",
       "      <td>2024-02-14</td>\n",
       "      <td>신세계 강남점 엄브로 단독 주년 신세계백화점 영국 스포츠 엄브로 주년 업계 단독 1...</td>\n",
       "      <td>영국 엄브로 엄브 신세계백화점 주년 강남점 신세계 축구팀 일상복 오랫동안 선현우 블...</td>\n",
       "      <td>http://www.fnnews.com/news/202402141025245334</td>\n",
       "      <td>2024-02-14파이낸셜뉴스 신세계백화점은 영국 스포츠 브랜드 엄브로의 론칭 10...</td>\n",
       "      <td>https://www.bigkinds.or.kr/resources/images/02...</td>\n",
       "      <td>2024-02 14 파이낸셜뉴스 신세계 백화점 영국 스포츠 브랜드 엄브로 론칭 10...</td>\n",
       "      <td>[영국, 엄브로, 엄브, 신세계백화점, 신세계, 현우, 맨체스터, 신세계, 엄브로,...</td>\n",
       "      <td>주년 강남점 축구팀 일상복 오랫동안 선현우 블록코어 매력적 믹스매치 팬들 굿즈 런드...</td>\n",
       "      <td>강남점 단독 주년 스포츠 주년 업계 단독 14일 세탁소 시작 선수 오랫동안 축구 팬...</td>\n",
       "      <td>0</td>\n",
       "      <td>0.415425</td>\n",
       "      <td>0.012600</td>\n",
       "      <td>0.322578</td>\n",
       "      <td>[01100401.20240111172445001, 07100501.20231120...</td>\n",
       "      <td>0.993646</td>\n",
       "    </tr>\n",
       "    <tr>\n",
       "      <th>5</th>\n",
       "      <td>01100901.20240214080104001</td>\n",
       "      <td>2024-02-14</td>\n",
       "      <td>초콜릿 캐릭터 편의점 밸런타인 전쟁 비크닉 빼빼로데이 밸런타인데이 설날 화이트데이 ...</td>\n",
       "      <td>밸런타인데이 편의점 기념일 md 키링 세븐일레븐 학생들 밸런타인 빵빵 일본</td>\n",
       "      <td>https://www.joongang.co.kr/article/25228536</td>\n",
       "      <td>2024-02-14①밸런타인데이 ②설날 ③화이트데이 ④추석 ⑤빼빼로데이 편의점 업계...</td>\n",
       "      <td>https://www.bigkinds.or.kr/resources/images/01...</td>\n",
       "      <td>2024-02 14 밸런타인데이 설날 화이트데이 추석 빼빼로데이 편의점 업계 다섯 ...</td>\n",
       "      <td>[키링, 세븐일레븐, 밸런타인, 일본, 밸런타인, 빼빼로, 밸런타인데이, 이마트, ...</td>\n",
       "      <td>편의점 기념일 md 학생들 빵빵</td>\n",
       "      <td>초콜릿 캐릭터 편의점 전쟁 비크닉 빼빼로데이 설날 화이트데이 추석 편의점 업계 메이...</td>\n",
       "      <td>1</td>\n",
       "      <td>0.477591</td>\n",
       "      <td>-0.082048</td>\n",
       "      <td>0.307969</td>\n",
       "      <td>[01100901.20231231165914001, 02100101.20231214...</td>\n",
       "      <td>0.969968</td>\n",
       "    </tr>\n",
       "    <tr>\n",
       "      <th>6</th>\n",
       "      <td>01101101.20240214070019001</td>\n",
       "      <td>2024-02-14</td>\n",
       "      <td>세뱃돈 밸런타인데이 큰손 겨냥 유통가 밸런타인데이 쇼핑 대목 소비 노려백화점 각종 ...</td>\n",
       "      <td>밸런타인데이 세뱃돈 구매량 유통가 이제이베이킹 블핑이 편집숍 롯데백화점 모남희 잘파...</td>\n",
       "      <td>https://www.hankookilbo.com/News/Read/A2024021...</td>\n",
       "      <td>2024-02-14연중 최대 쇼핑 성수기 중 하나인 설 연휴 직후 다른 대목인 밸런...</td>\n",
       "      <td>https://www.bigkinds.or.kr/resources/images/01...</td>\n",
       "      <td>2024-02 14 연중 최대 쇼핑 수기 하나 연휴 직후 다른 대목 밸런타인데이 2...</td>\n",
       "      <td>[롯데백화점, 모남희, 대구, 시시호시, 밸런타인데이, 밸런타인데이, 밸런타인데이,...</td>\n",
       "      <td>세뱃돈 구매량 유통가 이제이베이킹 블핑이 편집숍 잘파세대 편의점 만큼 지마켓 잘파 ...</td>\n",
       "      <td>세뱃돈 큰손 겨냥 유통가 쇼핑 대목 소비 노려백화점 각종 유인 연중 최대 쇼핑 성수...</td>\n",
       "      <td>3</td>\n",
       "      <td>-0.368547</td>\n",
       "      <td>-0.062532</td>\n",
       "      <td>0.136230</td>\n",
       "      <td>[01100301.20221122120847004, 07100501.20220912...</td>\n",
       "      <td>0.992798</td>\n",
       "    </tr>\n",
       "    <tr>\n",
       "      <th>7</th>\n",
       "      <td>02100851.20240214060228001</td>\n",
       "      <td>2024-02-14</td>\n",
       "      <td>신세계 강남점 엄브로 주년 단독 선봬 15일 2주 강남점 스테이지 사진 엄브로 신세...</td>\n",
       "      <td>영국 엄브로 엄브 강남점 혼네 신세계백화점 런드리 주년 고객들 축구팀 레트 세탁소 ...</td>\n",
       "      <td>https://www.ajunews.com/view/20240213165111369</td>\n",
       "      <td>2024-02-14신세계백화점이 오는 15일 영국 스포츠 브랜드 엄브로의 론칭 10...</td>\n",
       "      <td>https://www.bigkinds.or.kr/resources/images/02...</td>\n",
       "      <td>2024-02 14 신세계 백화점 15일 영국 스포츠 브랜드 엄브로 론칭 100 주...</td>\n",
       "      <td>[영국, 엄브로, 엄브, 신세계, 카카오톡, 신세계, 엄브로, 엄브로, 신세계백화점...</td>\n",
       "      <td>강남점 런드리 주년 고객들 축구팀 세탁소 선봬 사진관 스테이지</td>\n",
       "      <td>강남점 주년 단독 선봬 15일 2주 강남점 스테이지 사진 스포츠 주년 업계 단독 1...</td>\n",
       "      <td>1</td>\n",
       "      <td>0.987641</td>\n",
       "      <td>-0.094485</td>\n",
       "      <td>0.221459</td>\n",
       "      <td>[07100501.20240214144618001, 07100501.20230821...</td>\n",
       "      <td>0.988009</td>\n",
       "    </tr>\n",
       "    <tr>\n",
       "      <th>8</th>\n",
       "      <td>01100801.20240214033942001</td>\n",
       "      <td>2024-02-14</td>\n",
       "      <td>외국인 핫플 광장시장 종로 상권 재래시장 반전 12일 1시 근처 종로구 광장시장 프...</td>\n",
       "      <td>광장시장 외국인 종로 코로나 관광객 내국인 종각역 음식점 비씨카드 재래시장 영화감독...</td>\n",
       "      <td>https://www.chosun.com/economy/market_trend/20...</td>\n",
       "      <td>2024-02-14지난 12일 오후 1시쯤 서울 종로구 광장시장 남2문 근처에 있는...</td>\n",
       "      <td>https://www.bigkinds.or.kr/resources/images/01...</td>\n",
       "      <td>2024-02 14 지난 12일 오후 1시 서울 종로구 광장시장 근처 프랜차이즈 카...</td>\n",
       "      <td>[광장시장, 종로, 코로나, 종각역, 비씨카드, 서울, 광장시장, 종로, 종로구, ...</td>\n",
       "      <td>외국인 관광객 내국인 음식점 재래시장 영화감독 서울레코드 상인회</td>\n",
       "      <td>외국인 핫플 상권 재래시장 반전 12일 1시 근처 카페 외국인 호떡 붕어빵 커피 주...</td>\n",
       "      <td>3</td>\n",
       "      <td>-0.303027</td>\n",
       "      <td>-0.170840</td>\n",
       "      <td>0.252135</td>\n",
       "      <td>[02100601.20230425155339001, 01100801.20230922...</td>\n",
       "      <td>0.983361</td>\n",
       "    </tr>\n",
       "    <tr>\n",
       "      <th>9</th>\n",
       "      <td>01100401.20240214030659001</td>\n",
       "      <td>2024-02-14</td>\n",
       "      <td>이주 PICK 밸런타인데이 특별 MD-티 클래스 화이트데이 연계도 설날 밸런타인데이...</td>\n",
       "      <td>밸런타인데이 인스타그램 굿즈 롯데백화점 스타벅스 파베 상품들 유통팀 md 밸런타인 ...</td>\n",
       "      <td>https://www.donga.com/news/Economy/article/all...</td>\n",
       "      <td>2024-02-14즐거운 설날이 지나고 달콤한 밸런타인데이가 돌아왔습니다. 어느덧 ...</td>\n",
       "      <td>https://www.bigkinds.or.kr/resources/images/01...</td>\n",
       "      <td>2024-02 14 설날 밸런타인데이 2월 3월 14일 사람 마음 선사 날로 자리 ...</td>\n",
       "      <td>[인스타그램, 굿즈, 롯데백화점, 스타벅스, 파베, 밸런타인, 시그니처, 부산, 동...</td>\n",
       "      <td>상품들 유통팀 md 화이트데이 부산본점 동탄점</td>\n",
       "      <td>이주 PICK 특별 MD-티 클래스 화이트데이 연계도 설날 2월 3월 14일 사람들...</td>\n",
       "      <td>0</td>\n",
       "      <td>-0.145349</td>\n",
       "      <td>-0.126100</td>\n",
       "      <td>0.256350</td>\n",
       "      <td>[02100601.20220318172416001, 01500701.20230413...</td>\n",
       "      <td>0.989892</td>\n",
       "    </tr>\n",
       "  </tbody>\n",
       "</table>\n",
       "</div>"
      ],
      "text/plain": [
       "                      news_id   news_date  \\\n",
       "0  02100201.20240214165525001  2024-02-14   \n",
       "1  02100201.20240214161101001  2024-02-14   \n",
       "2  01500601.20240214160335001  2024-02-14   \n",
       "3  07100501.20240214144618001  2024-02-14   \n",
       "4  02100501.20240214103102002  2024-02-14   \n",
       "5  01100901.20240214080104001  2024-02-14   \n",
       "6  01101101.20240214070019001  2024-02-14   \n",
       "7  02100851.20240214060228001  2024-02-14   \n",
       "8  01100801.20240214033942001  2024-02-14   \n",
       "9  01100401.20240214030659001  2024-02-14   \n",
       "\n",
       "                                        news_keyword  \\\n",
       "0  나혼산 규현 바퀜 주문폭주 소요 배송 순수 원조 진공 용기 신세계 CJ 메가 플랫폼...   \n",
       "1  렌즈스토어 뷰티 렌즈 편집숍 윙크 울산 대구 뷰티 콘택트렌즈 플랫폼 윙크컴퍼니 확대...   \n",
       "2  대표이사 대구불로탁주 최종국 이사 생물 도전장 지역 막걸리 글로벌 막걸리 생물 막걸...   \n",
       "3  신세계 강남점 엄브로 단독 주년 선봬 신세계백화점 영국 스포츠 엄브로 주년 업계 단...   \n",
       "4  신세계 강남점 엄브로 단독 주년 신세계백화점 영국 스포츠 엄브로 주년 업계 단독 1...   \n",
       "5  초콜릿 캐릭터 편의점 밸런타인 전쟁 비크닉 빼빼로데이 밸런타인데이 설날 화이트데이 ...   \n",
       "6  세뱃돈 밸런타인데이 큰손 겨냥 유통가 밸런타인데이 쇼핑 대목 소비 노려백화점 각종 ...   \n",
       "7  신세계 강남점 엄브로 주년 단독 선봬 15일 2주 강남점 스테이지 사진 엄브로 신세...   \n",
       "8  외국인 핫플 광장시장 종로 상권 재래시장 반전 12일 1시 근처 종로구 광장시장 프...   \n",
       "9  이주 PICK 밸런타인데이 특별 MD-티 클래스 화이트데이 연계도 설날 밸런타인데이...   \n",
       "\n",
       "                                        news_feature  \\\n",
       "0  바퀜 규현 메이커빌 나혼산 신세계백화점 메가플랫폼 온오프라인 신세계 밀폐용기 보관력...   \n",
       "1              윙크컴퍼니 뷰티렌즈 대구 울산 큐레이션 정문기 중구 남구 렌즈스토어   \n",
       "2  대구 대구불로탁주 불로막걸리 품평회 생막걸리 양조장 대한민국 한국막걸리협회 동구 생...   \n",
       "3  엄브로 강남점 영국 혼네 신세계백화점 주년 굿즈 엄브 일상복 선현우 신세계 선착순 ...   \n",
       "4  영국 엄브로 엄브 신세계백화점 주년 강남점 신세계 축구팀 일상복 오랫동안 선현우 블...   \n",
       "5          밸런타인데이 편의점 기념일 md 키링 세븐일레븐 학생들 밸런타인 빵빵 일본   \n",
       "6  밸런타인데이 세뱃돈 구매량 유통가 이제이베이킹 블핑이 편집숍 롯데백화점 모남희 잘파...   \n",
       "7  영국 엄브로 엄브 강남점 혼네 신세계백화점 런드리 주년 고객들 축구팀 레트 세탁소 ...   \n",
       "8  광장시장 외국인 종로 코로나 관광객 내국인 종각역 음식점 비씨카드 재래시장 영화감독...   \n",
       "9  밸런타인데이 인스타그램 굿즈 롯데백화점 스타벅스 파베 상품들 유통팀 md 밸런타인 ...   \n",
       "\n",
       "                                            news_url  \\\n",
       "0  http://news.moneytoday.co.kr/view/mtview.php?n...   \n",
       "1  http://news.moneytoday.co.kr/view/mtview.php?n...   \n",
       "2  https://www.imaeil.com/page/view/2024021314385...   \n",
       "3               http://www.etnews.com/20240214000260   \n",
       "4      http://www.fnnews.com/news/202402141025245334   \n",
       "5        https://www.joongang.co.kr/article/25228536   \n",
       "6  https://www.hankookilbo.com/News/Read/A2024021...   \n",
       "7     https://www.ajunews.com/view/20240213165111369   \n",
       "8  https://www.chosun.com/economy/market_trend/20...   \n",
       "9  https://www.donga.com/news/Economy/article/all...   \n",
       "\n",
       "                                        news_content  \\\n",
       "0  2024-02-14머니투데이 이동오 기자 순수 국내기술로 개발한 원조 진공용기신세계...   \n",
       "1  2024-02-14머니투데이 조한송 기자 뷰티 콘택트렌즈 플랫폼 윙크컴퍼니가 고객 ...   \n",
       "2  2024-02-14막걸리는 살아있는 생물입니다. 지역 전통 막걸리의 맛을 전국을 넘...   \n",
       "3  2024-02-14신세계백화점은 영국 스포츠 브랜드 엄브로 론칭 100주년을 맞아 ...   \n",
       "4  2024-02-14파이낸셜뉴스 신세계백화점은 영국 스포츠 브랜드 엄브로의 론칭 10...   \n",
       "5  2024-02-14①밸런타인데이 ②설날 ③화이트데이 ④추석 ⑤빼빼로데이 편의점 업계...   \n",
       "6  2024-02-14연중 최대 쇼핑 성수기 중 하나인 설 연휴 직후 다른 대목인 밸런...   \n",
       "7  2024-02-14신세계백화점이 오는 15일 영국 스포츠 브랜드 엄브로의 론칭 10...   \n",
       "8  2024-02-14지난 12일 오후 1시쯤 서울 종로구 광장시장 남2문 근처에 있는...   \n",
       "9  2024-02-14즐거운 설날이 지나고 달콤한 밸런타인데이가 돌아왔습니다. 어느덧 ...   \n",
       "\n",
       "                                             img_url  \\\n",
       "0  https://www.bigkinds.or.kr/resources/images/02...   \n",
       "1  https://www.bigkinds.or.kr/resources/images/02...   \n",
       "2  https://www.bigkinds.or.kr/resources/images/01...   \n",
       "3  https://www.bigkinds.or.kr/resources/images/07...   \n",
       "4  https://www.bigkinds.or.kr/resources/images/02...   \n",
       "5  https://www.bigkinds.or.kr/resources/images/01...   \n",
       "6  https://www.bigkinds.or.kr/resources/images/01...   \n",
       "7  https://www.bigkinds.or.kr/resources/images/02...   \n",
       "8  https://www.bigkinds.or.kr/resources/images/01...   \n",
       "9  https://www.bigkinds.or.kr/resources/images/01...   \n",
       "\n",
       "                                     summery_content  \\\n",
       "0  2024-02 14 머니투데이 동오 기자 순수 국내 기술 개발 원조 진공 용기 신세...   \n",
       "1  2024-02 14 머니투데이 기자 뷰티 콘택트렌즈 플랫폼 윙크 컴퍼니 고객 경험 ...   \n",
       "2  2024-02 14 막걸리 생물 지역 전통 막걸리 전국 세계 시장 계획 50 이상 ...   \n",
       "3  2024-02 14 신세계 백화점 영국 스포츠 브랜드 엄브로 론칭 100 주년 업계...   \n",
       "4  2024-02 14 파이낸셜뉴스 신세계 백화점 영국 스포츠 브랜드 엄브로 론칭 10...   \n",
       "5  2024-02 14 밸런타인데이 설날 화이트데이 추석 빼빼로데이 편의점 업계 다섯 ...   \n",
       "6  2024-02 14 연중 최대 쇼핑 수기 하나 연휴 직후 다른 대목 밸런타인데이 2...   \n",
       "7  2024-02 14 신세계 백화점 15일 영국 스포츠 브랜드 엄브로 론칭 100 주...   \n",
       "8  2024-02 14 지난 12일 오후 1시 서울 종로구 광장시장 근처 프랜차이즈 카...   \n",
       "9  2024-02 14 설날 밸런타인데이 2월 3월 14일 사람 마음 선사 날로 자리 ...   \n",
       "\n",
       "                                                 NNP  \\\n",
       "0  [바퀜, 규현, 메이커빌, 나혼산, 신세계백화점, 신세계, 아마존, 미국, 규현, ...   \n",
       "1  [대구, 울산, 큐레이션, 중구, 남구, 울산, 대구, 울산광역시, 대구광역시, 뷰...   \n",
       "2  [대구, 대구부, 대한민국, 한국, 일본, 대구부, 대구, 불로동, 대구, 안재모,...   \n",
       "3  [엄브로, 영국, 혼네, 신세계백화점, 현우, 신세계, 신세계, 엄브로, 신세계백화...   \n",
       "4  [영국, 엄브로, 엄브, 신세계백화점, 신세계, 현우, 맨체스터, 신세계, 엄브로,...   \n",
       "5  [키링, 세븐일레븐, 밸런타인, 일본, 밸런타인, 빼빼로, 밸런타인데이, 이마트, ...   \n",
       "6  [롯데백화점, 모남희, 대구, 시시호시, 밸런타인데이, 밸런타인데이, 밸런타인데이,...   \n",
       "7  [영국, 엄브로, 엄브, 신세계, 카카오톡, 신세계, 엄브로, 엄브로, 신세계백화점...   \n",
       "8  [광장시장, 종로, 코로나, 종각역, 비씨카드, 서울, 광장시장, 종로, 종로구, ...   \n",
       "9  [인스타그램, 굿즈, 롯데백화점, 스타벅스, 파베, 밸런타인, 시그니처, 부산, 동...   \n",
       "\n",
       "                                news_feature_cleaned  \\\n",
       "0                        메가플랫폼 온오프라인 밀폐용기 보관력 프코크 cj   \n",
       "1                               윙크컴퍼니 뷰티렌즈 정문기 렌즈스토어   \n",
       "2          대구불로탁주 불로막걸리 품평회 생막걸리 양조장 한국막걸리협회 생효모 경쟁력   \n",
       "3     강남점 주년 굿즈 일상복 선현우 선착순 런드리 20만 포토존 패션담당 스테이지 선봬   \n",
       "4  주년 강남점 축구팀 일상복 오랫동안 선현우 블록코어 매력적 믹스매치 팬들 굿즈 런드...   \n",
       "5                                  편의점 기념일 md 학생들 빵빵   \n",
       "6  세뱃돈 구매량 유통가 이제이베이킹 블핑이 편집숍 잘파세대 편의점 만큼 지마켓 잘파 ...   \n",
       "7                 강남점 런드리 주년 고객들 축구팀 세탁소 선봬 사진관 스테이지   \n",
       "8                외국인 관광객 내국인 음식점 재래시장 영화감독 서울레코드 상인회   \n",
       "9                          상품들 유통팀 md 화이트데이 부산본점 동탄점   \n",
       "\n",
       "                                news_keyword_cleaned  군집      PCA1      PCA2  \\\n",
       "0  주문폭주 소요 배송 순수 원조 진공 용기 CJ 메가 플랫폼 협업 시너지 MBC 혼자...   2 -1.177593 -0.106924   \n",
       "1  렌즈스토어 렌즈 편집숍 윙크 콘택트렌즈 플랫폼 윙크컴퍼니 확대 경험 전략 채널 강화...   2 -2.274102  0.171205   \n",
       "2  대표이사 대구불로탁주 최종국 이사 생물 도전장 지역 막걸리 글로벌 막걸리 생물 막걸...   2 -0.954317  0.015421   \n",
       "3  강남점 단독 주년 선봬 스포츠 주년 업계 단독 강남점 14일 시작 유행 MZ고객 스...   1  1.026644 -0.073347   \n",
       "4  강남점 단독 주년 스포츠 주년 업계 단독 14일 세탁소 시작 선수 오랫동안 축구 팬...   0  0.415425  0.012600   \n",
       "5  초콜릿 캐릭터 편의점 전쟁 비크닉 빼빼로데이 설날 화이트데이 추석 편의점 업계 메이...   1  0.477591 -0.082048   \n",
       "6  세뱃돈 큰손 겨냥 유통가 쇼핑 대목 소비 노려백화점 각종 유인 연중 최대 쇼핑 성수...   3 -0.368547 -0.062532   \n",
       "7  강남점 주년 단독 선봬 15일 2주 강남점 스테이지 사진 스포츠 주년 업계 단독 1...   1  0.987641 -0.094485   \n",
       "8  외국인 핫플 상권 재래시장 반전 12일 1시 근처 카페 외국인 호떡 붕어빵 커피 주...   3 -0.303027 -0.170840   \n",
       "9  이주 PICK 특별 MD-티 클래스 화이트데이 연계도 설날 2월 3월 14일 사람들...   0 -0.145349 -0.126100   \n",
       "\n",
       "   distance                                              Top_5  \\\n",
       "0  0.166228  [02100801.20230420084402002, 02100201.20230612...   \n",
       "1  1.116017  [02100801.20230920081710001, 02100601.20200206...   \n",
       "2  0.213881  [01400401.20200818140025001, 02100601.20220527...   \n",
       "3  0.253204  [02100501.20240214103102002, 01600301.20231003...   \n",
       "4  0.322578  [01100401.20240111172445001, 07100501.20231120...   \n",
       "5  0.307969  [01100901.20231231165914001, 02100101.20231214...   \n",
       "6  0.136230  [01100301.20221122120847004, 07100501.20220912...   \n",
       "7  0.221459  [07100501.20240214144618001, 07100501.20230821...   \n",
       "8  0.252135  [02100601.20230425155339001, 01100801.20230922...   \n",
       "9  0.256350  [02100601.20220318172416001, 01500701.20230413...   \n",
       "\n",
       "   best_similarities  \n",
       "0           0.949225  \n",
       "1           0.604813  \n",
       "2           0.979166  \n",
       "3           0.991756  \n",
       "4           0.993646  \n",
       "5           0.969968  \n",
       "6           0.992798  \n",
       "7           0.988009  \n",
       "8           0.983361  \n",
       "9           0.989892  "
      ]
     },
     "execution_count": 51,
     "metadata": {},
     "output_type": "execute_result"
    }
   ],
   "source": [
    "df.head(10)"
   ]
  },
  {
   "cell_type": "markdown",
   "metadata": {},
   "source": [
    "# 최종 평균 유사도: 0.9786319510287398"
   ]
  },
  {
   "cell_type": "code",
   "execution_count": null,
   "metadata": {},
   "outputs": [
    {
     "name": "stdout",
     "output_type": "stream",
     "text": [
      "평균 유사도:  0.9786319510287398\n"
     ]
    }
   ],
   "source": [
    "# 'Best_similarities' 컬럼의 평균 유사도를 계산합니다.\n",
    "average_similarity = df['best_similarities'].mean()\n",
    "\n",
    "print(\"평균 유사도: \", average_similarity)"
   ]
  },
  {
   "cell_type": "code",
   "execution_count": null,
   "metadata": {},
   "outputs": [],
   "source": []
  },
  {
   "cell_type": "code",
   "execution_count": null,
   "metadata": {},
   "outputs": [],
   "source": []
  },
  {
   "cell_type": "code",
   "execution_count": null,
   "metadata": {},
   "outputs": [],
   "source": []
  }
 ],
 "metadata": {
  "kernelspec": {
   "display_name": "Python 3",
   "language": "python",
   "name": "python3"
  },
  "language_info": {
   "codemirror_mode": {
    "name": "ipython",
    "version": 3
   },
   "file_extension": ".py",
   "mimetype": "text/x-python",
   "name": "python",
   "nbconvert_exporter": "python",
   "pygments_lexer": "ipython3",
   "version": "3.11.5"
  }
 },
 "nbformat": 4,
 "nbformat_minor": 2
}
